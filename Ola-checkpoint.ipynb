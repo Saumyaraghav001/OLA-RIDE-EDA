{
 "cells": [
  {
   "cell_type": "code",
   "execution_count": 3,
   "id": "376ee730-323c-413a-8708-dae41012c997",
   "metadata": {},
   "outputs": [],
   "source": [
    "import pandas as pd\n",
    "import numpy as np\n",
    "import matplotlib.pyplot as plt\n",
    "import seaborn as sb\n"
   ]
  },
  {
   "cell_type": "code",
   "execution_count": 4,
   "id": "b5621558-f55c-4b27-b6f8-32506b869c4c",
   "metadata": {},
   "outputs": [],
   "source": [
    "df=pd.read_csv('Bengaluru Ola.csv')"
   ]
  },
  {
   "cell_type": "code",
   "execution_count": 30,
   "id": "095255aa-13da-4c0d-9b5a-552b74c3a60d",
   "metadata": {},
   "outputs": [
    {
     "data": {
      "text/plain": [
       "(49999, 21)"
      ]
     },
     "execution_count": 30,
     "metadata": {},
     "output_type": "execute_result"
    }
   ],
   "source": [
    "df.shape"
   ]
  },
  {
   "cell_type": "code",
   "execution_count": 31,
   "id": "88ea6057-04f6-4b60-8d6b-bd1443435b3d",
   "metadata": {},
   "outputs": [
    {
     "name": "stdout",
     "output_type": "stream",
     "text": [
      "<class 'pandas.core.frame.DataFrame'>\n",
      "RangeIndex: 49999 entries, 0 to 49998\n",
      "Data columns (total 21 columns):\n",
      " #   Column                             Non-Null Count  Dtype  \n",
      "---  ------                             --------------  -----  \n",
      " 0   Date                               49999 non-null  object \n",
      " 1   Time                               49999 non-null  object \n",
      " 2   Booking ID                         49999 non-null  object \n",
      " 3   Booking Status                     49999 non-null  object \n",
      " 4   Customer ID                        49999 non-null  int64  \n",
      " 5   Vehicle Type                       49999 non-null  object \n",
      " 6   Pickup Location                    49999 non-null  object \n",
      " 7   Drop Location                      49999 non-null  object \n",
      " 8   Avg VTAT                           33484 non-null  float64\n",
      " 9   Avg CTAT                           33484 non-null  float64\n",
      " 10  Cancelled  by Customer             49999 non-null  int64  \n",
      " 11  Reason for Cancelling by Customer  3799 non-null   object \n",
      " 12  Cancelled Rides by Driver          49999 non-null  int64  \n",
      " 13  Reason for Cancelling by Driver    9610 non-null   object \n",
      " 14  Incomplete Rides                   49999 non-null  int64  \n",
      " 15  Incomplete Rides Reason            3106 non-null   object \n",
      " 16  Booking Value                      33484 non-null  float64\n",
      " 17  Payment Method                     33484 non-null  object \n",
      " 18  Ride Distance                      33484 non-null  float64\n",
      " 19  Driver Ratings                     33484 non-null  float64\n",
      " 20  Customer Rating                    33484 non-null  float64\n",
      "dtypes: float64(6), int64(4), object(11)\n",
      "memory usage: 8.0+ MB\n"
     ]
    }
   ],
   "source": [
    "df.info()"
   ]
  },
  {
   "cell_type": "code",
   "execution_count": 32,
   "id": "2bdf3a51-3309-4a92-ae1d-7c248e4625d7",
   "metadata": {},
   "outputs": [
    {
     "data": {
      "text/plain": [
       "(49999, 21)"
      ]
     },
     "execution_count": 32,
     "metadata": {},
     "output_type": "execute_result"
    }
   ],
   "source": [
    "df.shape"
   ]
  },
  {
   "cell_type": "code",
   "execution_count": 33,
   "id": "c98b7e1f-d630-48fd-8a07-64dcee0c195b",
   "metadata": {},
   "outputs": [
    {
     "data": {
      "text/html": [
       "<div>\n",
       "<style scoped>\n",
       "    .dataframe tbody tr th:only-of-type {\n",
       "        vertical-align: middle;\n",
       "    }\n",
       "\n",
       "    .dataframe tbody tr th {\n",
       "        vertical-align: top;\n",
       "    }\n",
       "\n",
       "    .dataframe thead th {\n",
       "        text-align: right;\n",
       "    }\n",
       "</style>\n",
       "<table border=\"1\" class=\"dataframe\">\n",
       "  <thead>\n",
       "    <tr style=\"text-align: right;\">\n",
       "      <th></th>\n",
       "      <th>Date</th>\n",
       "      <th>Time</th>\n",
       "      <th>Booking ID</th>\n",
       "      <th>Booking Status</th>\n",
       "      <th>Customer ID</th>\n",
       "      <th>Vehicle Type</th>\n",
       "      <th>Pickup Location</th>\n",
       "      <th>Drop Location</th>\n",
       "      <th>Avg VTAT</th>\n",
       "      <th>Avg CTAT</th>\n",
       "      <th>...</th>\n",
       "      <th>Reason for Cancelling by Customer</th>\n",
       "      <th>Cancelled Rides by Driver</th>\n",
       "      <th>Reason for Cancelling by Driver</th>\n",
       "      <th>Incomplete Rides</th>\n",
       "      <th>Incomplete Rides Reason</th>\n",
       "      <th>Booking Value</th>\n",
       "      <th>Payment Method</th>\n",
       "      <th>Ride Distance</th>\n",
       "      <th>Driver Ratings</th>\n",
       "      <th>Customer Rating</th>\n",
       "    </tr>\n",
       "  </thead>\n",
       "  <tbody>\n",
       "    <tr>\n",
       "      <th>0</th>\n",
       "      <td>28/01/2024</td>\n",
       "      <td>6:00:00</td>\n",
       "      <td>CNR1721175</td>\n",
       "      <td>Success</td>\n",
       "      <td>329258</td>\n",
       "      <td>Auto</td>\n",
       "      <td>Area-3</td>\n",
       "      <td>Area-2</td>\n",
       "      <td>5.42</td>\n",
       "      <td>18.46</td>\n",
       "      <td>...</td>\n",
       "      <td>NaN</td>\n",
       "      <td>0</td>\n",
       "      <td>NaN</td>\n",
       "      <td>0</td>\n",
       "      <td>NaN</td>\n",
       "      <td>868.06</td>\n",
       "      <td>Wallet</td>\n",
       "      <td>28.5</td>\n",
       "      <td>4.4</td>\n",
       "      <td>4.4</td>\n",
       "    </tr>\n",
       "    <tr>\n",
       "      <th>1</th>\n",
       "      <td>26/01/2024</td>\n",
       "      <td>3:00:00</td>\n",
       "      <td>CNR2871422</td>\n",
       "      <td>Cancelled by Driver</td>\n",
       "      <td>201414</td>\n",
       "      <td>Mini</td>\n",
       "      <td>Area-7</td>\n",
       "      <td>Area-6</td>\n",
       "      <td>NaN</td>\n",
       "      <td>NaN</td>\n",
       "      <td>...</td>\n",
       "      <td>NaN</td>\n",
       "      <td>1</td>\n",
       "      <td>The customer was coughing/sick</td>\n",
       "      <td>0</td>\n",
       "      <td>NaN</td>\n",
       "      <td>NaN</td>\n",
       "      <td>NaN</td>\n",
       "      <td>NaN</td>\n",
       "      <td>NaN</td>\n",
       "      <td>NaN</td>\n",
       "    </tr>\n",
       "    <tr>\n",
       "      <th>2</th>\n",
       "      <td>15/01/2024</td>\n",
       "      <td>16:00:00</td>\n",
       "      <td>CNR6875935</td>\n",
       "      <td>Cancelled by Driver</td>\n",
       "      <td>301629</td>\n",
       "      <td>Bike</td>\n",
       "      <td>Area-40</td>\n",
       "      <td>Area-24</td>\n",
       "      <td>NaN</td>\n",
       "      <td>NaN</td>\n",
       "      <td>...</td>\n",
       "      <td>NaN</td>\n",
       "      <td>1</td>\n",
       "      <td>Personal &amp; Car related issues</td>\n",
       "      <td>0</td>\n",
       "      <td>NaN</td>\n",
       "      <td>NaN</td>\n",
       "      <td>NaN</td>\n",
       "      <td>NaN</td>\n",
       "      <td>NaN</td>\n",
       "      <td>NaN</td>\n",
       "    </tr>\n",
       "    <tr>\n",
       "      <th>3</th>\n",
       "      <td>02/01/2024</td>\n",
       "      <td>22:00:00</td>\n",
       "      <td>CNR6798834</td>\n",
       "      <td>Cancelled by Driver</td>\n",
       "      <td>319684</td>\n",
       "      <td>Prime Sedan</td>\n",
       "      <td>Area-11</td>\n",
       "      <td>Area-24</td>\n",
       "      <td>NaN</td>\n",
       "      <td>NaN</td>\n",
       "      <td>...</td>\n",
       "      <td>NaN</td>\n",
       "      <td>1</td>\n",
       "      <td>The customer was coughing/sick</td>\n",
       "      <td>0</td>\n",
       "      <td>NaN</td>\n",
       "      <td>NaN</td>\n",
       "      <td>NaN</td>\n",
       "      <td>NaN</td>\n",
       "      <td>NaN</td>\n",
       "      <td>NaN</td>\n",
       "    </tr>\n",
       "    <tr>\n",
       "      <th>4</th>\n",
       "      <td>30/01/2024</td>\n",
       "      <td>22:00:00</td>\n",
       "      <td>CNR9661713</td>\n",
       "      <td>Incomplete</td>\n",
       "      <td>330283</td>\n",
       "      <td>Bike</td>\n",
       "      <td>Area-41</td>\n",
       "      <td>Area-45</td>\n",
       "      <td>NaN</td>\n",
       "      <td>NaN</td>\n",
       "      <td>...</td>\n",
       "      <td>NaN</td>\n",
       "      <td>0</td>\n",
       "      <td>NaN</td>\n",
       "      <td>1</td>\n",
       "      <td>Other Issue</td>\n",
       "      <td>NaN</td>\n",
       "      <td>NaN</td>\n",
       "      <td>NaN</td>\n",
       "      <td>NaN</td>\n",
       "      <td>NaN</td>\n",
       "    </tr>\n",
       "  </tbody>\n",
       "</table>\n",
       "<p>5 rows × 21 columns</p>\n",
       "</div>"
      ],
      "text/plain": [
       "         Date      Time  Booking ID       Booking Status  Customer ID  \\\n",
       "0  28/01/2024   6:00:00  CNR1721175              Success       329258   \n",
       "1  26/01/2024   3:00:00  CNR2871422  Cancelled by Driver       201414   \n",
       "2  15/01/2024  16:00:00  CNR6875935  Cancelled by Driver       301629   \n",
       "3  02/01/2024  22:00:00  CNR6798834  Cancelled by Driver       319684   \n",
       "4  30/01/2024  22:00:00  CNR9661713           Incomplete       330283   \n",
       "\n",
       "  Vehicle Type Pickup Location Drop Location  Avg VTAT  Avg CTAT  ...  \\\n",
       "0         Auto          Area-3        Area-2      5.42     18.46  ...   \n",
       "1         Mini          Area-7        Area-6       NaN       NaN  ...   \n",
       "2         Bike         Area-40       Area-24       NaN       NaN  ...   \n",
       "3  Prime Sedan         Area-11       Area-24       NaN       NaN  ...   \n",
       "4         Bike         Area-41       Area-45       NaN       NaN  ...   \n",
       "\n",
       "   Reason for Cancelling by Customer Cancelled Rides by Driver  \\\n",
       "0                                NaN                         0   \n",
       "1                                NaN                         1   \n",
       "2                                NaN                         1   \n",
       "3                                NaN                         1   \n",
       "4                                NaN                         0   \n",
       "\n",
       "   Reason for Cancelling by Driver Incomplete Rides  Incomplete Rides Reason  \\\n",
       "0                              NaN                0                      NaN   \n",
       "1   The customer was coughing/sick                0                      NaN   \n",
       "2    Personal & Car related issues                0                      NaN   \n",
       "3   The customer was coughing/sick                0                      NaN   \n",
       "4                              NaN                1              Other Issue   \n",
       "\n",
       "  Booking Value  Payment Method Ride Distance  Driver Ratings  Customer Rating  \n",
       "0        868.06          Wallet          28.5             4.4              4.4  \n",
       "1           NaN             NaN           NaN             NaN              NaN  \n",
       "2           NaN             NaN           NaN             NaN              NaN  \n",
       "3           NaN             NaN           NaN             NaN              NaN  \n",
       "4           NaN             NaN           NaN             NaN              NaN  \n",
       "\n",
       "[5 rows x 21 columns]"
      ]
     },
     "execution_count": 33,
     "metadata": {},
     "output_type": "execute_result"
    }
   ],
   "source": [
    "df.head(5)"
   ]
  },
  {
   "cell_type": "code",
   "execution_count": 34,
   "id": "f5e8d8c6-ba2b-463e-8f8f-367eae2edbde",
   "metadata": {},
   "outputs": [
    {
     "data": {
      "text/plain": [
       "Date                                     0\n",
       "Time                                     0\n",
       "Booking ID                               0\n",
       "Booking Status                           0\n",
       "Customer ID                              0\n",
       "Vehicle Type                             0\n",
       "Pickup Location                          0\n",
       "Drop Location                            0\n",
       "Avg VTAT                             16515\n",
       "Avg CTAT                             16515\n",
       "Cancelled  by Customer                   0\n",
       "Reason for Cancelling by Customer    46200\n",
       "Cancelled Rides by Driver                0\n",
       "Reason for Cancelling by Driver      40389\n",
       "Incomplete Rides                         0\n",
       "Incomplete Rides Reason              46893\n",
       "Booking Value                        16515\n",
       "Payment Method                       16515\n",
       "Ride Distance                        16515\n",
       "Driver Ratings                       16515\n",
       "Customer Rating                      16515\n",
       "dtype: int64"
      ]
     },
     "execution_count": 34,
     "metadata": {},
     "output_type": "execute_result"
    }
   ],
   "source": [
    "df.isnull().sum()"
   ]
  },
  {
   "cell_type": "code",
   "execution_count": 35,
   "id": "b71a8a61-d2ba-4019-80b8-093b52c8a012",
   "metadata": {},
   "outputs": [
    {
     "data": {
      "text/plain": [
       "49999"
      ]
     },
     "execution_count": 35,
     "metadata": {},
     "output_type": "execute_result"
    }
   ],
   "source": [
    "df.shape[0]"
   ]
  },
  {
   "cell_type": "code",
   "execution_count": 36,
   "id": "89e7d7c7-c6b9-4301-828c-c9175ebd01e9",
   "metadata": {},
   "outputs": [
    {
     "data": {
      "text/plain": [
       "21"
      ]
     },
     "execution_count": 36,
     "metadata": {},
     "output_type": "execute_result"
    }
   ],
   "source": [
    "df.shape[1]"
   ]
  },
  {
   "cell_type": "code",
   "execution_count": 38,
   "id": "e76556c6-042b-4800-800a-db0091e84146",
   "metadata": {},
   "outputs": [
    {
     "data": {
      "text/html": [
       "<div>\n",
       "<style scoped>\n",
       "    .dataframe tbody tr th:only-of-type {\n",
       "        vertical-align: middle;\n",
       "    }\n",
       "\n",
       "    .dataframe tbody tr th {\n",
       "        vertical-align: top;\n",
       "    }\n",
       "\n",
       "    .dataframe thead th {\n",
       "        text-align: right;\n",
       "    }\n",
       "</style>\n",
       "<table border=\"1\" class=\"dataframe\">\n",
       "  <thead>\n",
       "    <tr style=\"text-align: right;\">\n",
       "      <th></th>\n",
       "      <th>Date</th>\n",
       "      <th>Time</th>\n",
       "      <th>Booking ID</th>\n",
       "      <th>Booking Status</th>\n",
       "      <th>Customer ID</th>\n",
       "      <th>Vehicle Type</th>\n",
       "      <th>Pickup Location</th>\n",
       "      <th>Drop Location</th>\n",
       "      <th>Avg VTAT</th>\n",
       "      <th>Avg CTAT</th>\n",
       "      <th>...</th>\n",
       "      <th>Reason for Cancelling by Customer</th>\n",
       "      <th>Cancelled Rides by Driver</th>\n",
       "      <th>Reason for Cancelling by Driver</th>\n",
       "      <th>Incomplete Rides</th>\n",
       "      <th>Incomplete Rides Reason</th>\n",
       "      <th>Booking Value</th>\n",
       "      <th>Payment Method</th>\n",
       "      <th>Ride Distance</th>\n",
       "      <th>Driver Ratings</th>\n",
       "      <th>Customer Rating</th>\n",
       "    </tr>\n",
       "  </thead>\n",
       "  <tbody>\n",
       "    <tr>\n",
       "      <th>count</th>\n",
       "      <td>49999</td>\n",
       "      <td>49999</td>\n",
       "      <td>49999</td>\n",
       "      <td>49999</td>\n",
       "      <td>49999.000000</td>\n",
       "      <td>49999</td>\n",
       "      <td>49999</td>\n",
       "      <td>49999</td>\n",
       "      <td>33484.000000</td>\n",
       "      <td>33484.000000</td>\n",
       "      <td>...</td>\n",
       "      <td>3799</td>\n",
       "      <td>49999.000000</td>\n",
       "      <td>9610</td>\n",
       "      <td>49999.000000</td>\n",
       "      <td>3106</td>\n",
       "      <td>33484.000000</td>\n",
       "      <td>33484</td>\n",
       "      <td>33484.000000</td>\n",
       "      <td>33484.00000</td>\n",
       "      <td>33484.000000</td>\n",
       "    </tr>\n",
       "    <tr>\n",
       "      <th>unique</th>\n",
       "      <td>31</td>\n",
       "      <td>24</td>\n",
       "      <td>49866</td>\n",
       "      <td>4</td>\n",
       "      <td>NaN</td>\n",
       "      <td>7</td>\n",
       "      <td>50</td>\n",
       "      <td>50</td>\n",
       "      <td>NaN</td>\n",
       "      <td>NaN</td>\n",
       "      <td>...</td>\n",
       "      <td>5</td>\n",
       "      <td>NaN</td>\n",
       "      <td>4</td>\n",
       "      <td>NaN</td>\n",
       "      <td>3</td>\n",
       "      <td>NaN</td>\n",
       "      <td>4</td>\n",
       "      <td>NaN</td>\n",
       "      <td>NaN</td>\n",
       "      <td>NaN</td>\n",
       "    </tr>\n",
       "    <tr>\n",
       "      <th>top</th>\n",
       "      <td>12/01/2024</td>\n",
       "      <td>0:00:00</td>\n",
       "      <td>CNR1569898</td>\n",
       "      <td>Success</td>\n",
       "      <td>NaN</td>\n",
       "      <td>Prime Plus</td>\n",
       "      <td>Area-39</td>\n",
       "      <td>Area-39</td>\n",
       "      <td>NaN</td>\n",
       "      <td>NaN</td>\n",
       "      <td>...</td>\n",
       "      <td>Driver is not moving towards pickup location</td>\n",
       "      <td>NaN</td>\n",
       "      <td>More than permitted people in there</td>\n",
       "      <td>NaN</td>\n",
       "      <td>Customer Demand</td>\n",
       "      <td>NaN</td>\n",
       "      <td>Cash</td>\n",
       "      <td>NaN</td>\n",
       "      <td>NaN</td>\n",
       "      <td>NaN</td>\n",
       "    </tr>\n",
       "    <tr>\n",
       "      <th>freq</th>\n",
       "      <td>1766</td>\n",
       "      <td>2171</td>\n",
       "      <td>2</td>\n",
       "      <td>33484</td>\n",
       "      <td>NaN</td>\n",
       "      <td>7252</td>\n",
       "      <td>1100</td>\n",
       "      <td>1058</td>\n",
       "      <td>NaN</td>\n",
       "      <td>NaN</td>\n",
       "      <td>...</td>\n",
       "      <td>793</td>\n",
       "      <td>NaN</td>\n",
       "      <td>2512</td>\n",
       "      <td>NaN</td>\n",
       "      <td>1091</td>\n",
       "      <td>NaN</td>\n",
       "      <td>8552</td>\n",
       "      <td>NaN</td>\n",
       "      <td>NaN</td>\n",
       "      <td>NaN</td>\n",
       "    </tr>\n",
       "    <tr>\n",
       "      <th>mean</th>\n",
       "      <td>NaN</td>\n",
       "      <td>NaN</td>\n",
       "      <td>NaN</td>\n",
       "      <td>NaN</td>\n",
       "      <td>550979.937539</td>\n",
       "      <td>NaN</td>\n",
       "      <td>NaN</td>\n",
       "      <td>NaN</td>\n",
       "      <td>10.481654</td>\n",
       "      <td>15.564320</td>\n",
       "      <td>...</td>\n",
       "      <td>NaN</td>\n",
       "      <td>0.192204</td>\n",
       "      <td>NaN</td>\n",
       "      <td>0.062121</td>\n",
       "      <td>NaN</td>\n",
       "      <td>1023.374286</td>\n",
       "      <td>NaN</td>\n",
       "      <td>25.447143</td>\n",
       "      <td>4.00304</td>\n",
       "      <td>4.001726</td>\n",
       "    </tr>\n",
       "    <tr>\n",
       "      <th>std</th>\n",
       "      <td>NaN</td>\n",
       "      <td>NaN</td>\n",
       "      <td>NaN</td>\n",
       "      <td>NaN</td>\n",
       "      <td>258855.930945</td>\n",
       "      <td>NaN</td>\n",
       "      <td>NaN</td>\n",
       "      <td>NaN</td>\n",
       "      <td>5.490853</td>\n",
       "      <td>8.365313</td>\n",
       "      <td>...</td>\n",
       "      <td>NaN</td>\n",
       "      <td>0.394036</td>\n",
       "      <td>NaN</td>\n",
       "      <td>0.241378</td>\n",
       "      <td>NaN</td>\n",
       "      <td>563.595072</td>\n",
       "      <td>NaN</td>\n",
       "      <td>14.175953</td>\n",
       "      <td>0.57968</td>\n",
       "      <td>0.579177</td>\n",
       "    </tr>\n",
       "    <tr>\n",
       "      <th>min</th>\n",
       "      <td>NaN</td>\n",
       "      <td>NaN</td>\n",
       "      <td>NaN</td>\n",
       "      <td>NaN</td>\n",
       "      <td>100001.000000</td>\n",
       "      <td>NaN</td>\n",
       "      <td>NaN</td>\n",
       "      <td>NaN</td>\n",
       "      <td>1.000000</td>\n",
       "      <td>1.000000</td>\n",
       "      <td>...</td>\n",
       "      <td>NaN</td>\n",
       "      <td>0.000000</td>\n",
       "      <td>NaN</td>\n",
       "      <td>0.000000</td>\n",
       "      <td>NaN</td>\n",
       "      <td>50.100000</td>\n",
       "      <td>NaN</td>\n",
       "      <td>1.000000</td>\n",
       "      <td>3.00000</td>\n",
       "      <td>3.000000</td>\n",
       "    </tr>\n",
       "    <tr>\n",
       "      <th>25%</th>\n",
       "      <td>NaN</td>\n",
       "      <td>NaN</td>\n",
       "      <td>NaN</td>\n",
       "      <td>NaN</td>\n",
       "      <td>328740.500000</td>\n",
       "      <td>NaN</td>\n",
       "      <td>NaN</td>\n",
       "      <td>NaN</td>\n",
       "      <td>5.730000</td>\n",
       "      <td>8.310000</td>\n",
       "      <td>...</td>\n",
       "      <td>NaN</td>\n",
       "      <td>0.000000</td>\n",
       "      <td>NaN</td>\n",
       "      <td>0.000000</td>\n",
       "      <td>NaN</td>\n",
       "      <td>532.942500</td>\n",
       "      <td>NaN</td>\n",
       "      <td>13.100000</td>\n",
       "      <td>3.50000</td>\n",
       "      <td>3.500000</td>\n",
       "    </tr>\n",
       "    <tr>\n",
       "      <th>50%</th>\n",
       "      <td>NaN</td>\n",
       "      <td>NaN</td>\n",
       "      <td>NaN</td>\n",
       "      <td>NaN</td>\n",
       "      <td>552598.000000</td>\n",
       "      <td>NaN</td>\n",
       "      <td>NaN</td>\n",
       "      <td>NaN</td>\n",
       "      <td>10.460000</td>\n",
       "      <td>15.610000</td>\n",
       "      <td>...</td>\n",
       "      <td>NaN</td>\n",
       "      <td>0.000000</td>\n",
       "      <td>NaN</td>\n",
       "      <td>0.000000</td>\n",
       "      <td>NaN</td>\n",
       "      <td>1023.350000</td>\n",
       "      <td>NaN</td>\n",
       "      <td>25.460000</td>\n",
       "      <td>4.00000</td>\n",
       "      <td>4.000000</td>\n",
       "    </tr>\n",
       "    <tr>\n",
       "      <th>75%</th>\n",
       "      <td>NaN</td>\n",
       "      <td>NaN</td>\n",
       "      <td>NaN</td>\n",
       "      <td>NaN</td>\n",
       "      <td>773970.000000</td>\n",
       "      <td>NaN</td>\n",
       "      <td>NaN</td>\n",
       "      <td>NaN</td>\n",
       "      <td>15.240000</td>\n",
       "      <td>22.790000</td>\n",
       "      <td>...</td>\n",
       "      <td>NaN</td>\n",
       "      <td>0.000000</td>\n",
       "      <td>NaN</td>\n",
       "      <td>0.000000</td>\n",
       "      <td>NaN</td>\n",
       "      <td>1514.677500</td>\n",
       "      <td>NaN</td>\n",
       "      <td>37.670000</td>\n",
       "      <td>4.50000</td>\n",
       "      <td>4.500000</td>\n",
       "    </tr>\n",
       "    <tr>\n",
       "      <th>max</th>\n",
       "      <td>NaN</td>\n",
       "      <td>NaN</td>\n",
       "      <td>NaN</td>\n",
       "      <td>NaN</td>\n",
       "      <td>999991.000000</td>\n",
       "      <td>NaN</td>\n",
       "      <td>NaN</td>\n",
       "      <td>NaN</td>\n",
       "      <td>20.000000</td>\n",
       "      <td>30.000000</td>\n",
       "      <td>...</td>\n",
       "      <td>NaN</td>\n",
       "      <td>1.000000</td>\n",
       "      <td>NaN</td>\n",
       "      <td>1.000000</td>\n",
       "      <td>NaN</td>\n",
       "      <td>2000.000000</td>\n",
       "      <td>NaN</td>\n",
       "      <td>50.000000</td>\n",
       "      <td>5.00000</td>\n",
       "      <td>5.000000</td>\n",
       "    </tr>\n",
       "  </tbody>\n",
       "</table>\n",
       "<p>11 rows × 21 columns</p>\n",
       "</div>"
      ],
      "text/plain": [
       "              Date     Time  Booking ID Booking Status    Customer ID  \\\n",
       "count        49999    49999       49999          49999   49999.000000   \n",
       "unique          31       24       49866              4            NaN   \n",
       "top     12/01/2024  0:00:00  CNR1569898        Success            NaN   \n",
       "freq          1766     2171           2          33484            NaN   \n",
       "mean           NaN      NaN         NaN            NaN  550979.937539   \n",
       "std            NaN      NaN         NaN            NaN  258855.930945   \n",
       "min            NaN      NaN         NaN            NaN  100001.000000   \n",
       "25%            NaN      NaN         NaN            NaN  328740.500000   \n",
       "50%            NaN      NaN         NaN            NaN  552598.000000   \n",
       "75%            NaN      NaN         NaN            NaN  773970.000000   \n",
       "max            NaN      NaN         NaN            NaN  999991.000000   \n",
       "\n",
       "       Vehicle Type Pickup Location Drop Location      Avg VTAT      Avg CTAT  \\\n",
       "count         49999           49999         49999  33484.000000  33484.000000   \n",
       "unique            7              50            50           NaN           NaN   \n",
       "top      Prime Plus         Area-39       Area-39           NaN           NaN   \n",
       "freq           7252            1100          1058           NaN           NaN   \n",
       "mean            NaN             NaN           NaN     10.481654     15.564320   \n",
       "std             NaN             NaN           NaN      5.490853      8.365313   \n",
       "min             NaN             NaN           NaN      1.000000      1.000000   \n",
       "25%             NaN             NaN           NaN      5.730000      8.310000   \n",
       "50%             NaN             NaN           NaN     10.460000     15.610000   \n",
       "75%             NaN             NaN           NaN     15.240000     22.790000   \n",
       "max             NaN             NaN           NaN     20.000000     30.000000   \n",
       "\n",
       "        ...             Reason for Cancelling by Customer  \\\n",
       "count   ...                                          3799   \n",
       "unique  ...                                             5   \n",
       "top     ...  Driver is not moving towards pickup location   \n",
       "freq    ...                                           793   \n",
       "mean    ...                                           NaN   \n",
       "std     ...                                           NaN   \n",
       "min     ...                                           NaN   \n",
       "25%     ...                                           NaN   \n",
       "50%     ...                                           NaN   \n",
       "75%     ...                                           NaN   \n",
       "max     ...                                           NaN   \n",
       "\n",
       "       Cancelled Rides by Driver      Reason for Cancelling by Driver  \\\n",
       "count               49999.000000                                 9610   \n",
       "unique                       NaN                                    4   \n",
       "top                          NaN  More than permitted people in there   \n",
       "freq                         NaN                                 2512   \n",
       "mean                    0.192204                                  NaN   \n",
       "std                     0.394036                                  NaN   \n",
       "min                     0.000000                                  NaN   \n",
       "25%                     0.000000                                  NaN   \n",
       "50%                     0.000000                                  NaN   \n",
       "75%                     0.000000                                  NaN   \n",
       "max                     1.000000                                  NaN   \n",
       "\n",
       "       Incomplete Rides  Incomplete Rides Reason Booking Value  \\\n",
       "count      49999.000000                     3106  33484.000000   \n",
       "unique              NaN                        3           NaN   \n",
       "top                 NaN          Customer Demand           NaN   \n",
       "freq                NaN                     1091           NaN   \n",
       "mean           0.062121                      NaN   1023.374286   \n",
       "std            0.241378                      NaN    563.595072   \n",
       "min            0.000000                      NaN     50.100000   \n",
       "25%            0.000000                      NaN    532.942500   \n",
       "50%            0.000000                      NaN   1023.350000   \n",
       "75%            0.000000                      NaN   1514.677500   \n",
       "max            1.000000                      NaN   2000.000000   \n",
       "\n",
       "        Payment Method Ride Distance  Driver Ratings  Customer Rating  \n",
       "count            33484  33484.000000     33484.00000     33484.000000  \n",
       "unique               4           NaN             NaN              NaN  \n",
       "top               Cash           NaN             NaN              NaN  \n",
       "freq              8552           NaN             NaN              NaN  \n",
       "mean               NaN     25.447143         4.00304         4.001726  \n",
       "std                NaN     14.175953         0.57968         0.579177  \n",
       "min                NaN      1.000000         3.00000         3.000000  \n",
       "25%                NaN     13.100000         3.50000         3.500000  \n",
       "50%                NaN     25.460000         4.00000         4.000000  \n",
       "75%                NaN     37.670000         4.50000         4.500000  \n",
       "max                NaN     50.000000         5.00000         5.000000  \n",
       "\n",
       "[11 rows x 21 columns]"
      ]
     },
     "execution_count": 38,
     "metadata": {},
     "output_type": "execute_result"
    }
   ],
   "source": [
    "df.describe(include='all')"
   ]
  },
  {
   "cell_type": "code",
   "execution_count": 39,
   "id": "a3447a5d-570e-4bd2-bff2-193727ce3bb0",
   "metadata": {},
   "outputs": [
    {
     "data": {
      "text/plain": [
       "Date                                  0.000000\n",
       "Time                                  0.000000\n",
       "Booking ID                            0.000000\n",
       "Booking Status                        0.000000\n",
       "Customer ID                           0.000000\n",
       "Vehicle Type                          0.000000\n",
       "Pickup Location                       0.000000\n",
       "Drop Location                         0.000000\n",
       "Avg VTAT                             33.030661\n",
       "Avg CTAT                             33.030661\n",
       "Cancelled  by Customer                0.000000\n",
       "Reason for Cancelling by Customer    92.401848\n",
       "Cancelled Rides by Driver             0.000000\n",
       "Reason for Cancelling by Driver      80.779616\n",
       "Incomplete Rides                      0.000000\n",
       "Incomplete Rides Reason              93.787876\n",
       "Booking Value                        33.030661\n",
       "Payment Method                       33.030661\n",
       "Ride Distance                        33.030661\n",
       "Driver Ratings                       33.030661\n",
       "Customer Rating                      33.030661\n",
       "dtype: float64"
      ]
     },
     "execution_count": 39,
     "metadata": {},
     "output_type": "execute_result"
    }
   ],
   "source": [
    "(df.isnull().sum()/len(df))*100"
   ]
  },
  {
   "cell_type": "code",
   "execution_count": 41,
   "id": "595dea00-d51a-4585-9669-0615b0557581",
   "metadata": {},
   "outputs": [],
   "source": [
    "dup=df.duplicated()"
   ]
  },
  {
   "cell_type": "code",
   "execution_count": 42,
   "id": "3f63af51-785b-4b79-9813-8e98174d4efa",
   "metadata": {
    "scrolled": true
   },
   "outputs": [
    {
     "data": {
      "text/plain": [
       "0        False\n",
       "1        False\n",
       "2        False\n",
       "3        False\n",
       "4        False\n",
       "         ...  \n",
       "49994    False\n",
       "49995    False\n",
       "49996    False\n",
       "49997    False\n",
       "49998    False\n",
       "Length: 49999, dtype: bool"
      ]
     },
     "execution_count": 42,
     "metadata": {},
     "output_type": "execute_result"
    }
   ],
   "source": [
    "dup"
   ]
  },
  {
   "cell_type": "code",
   "execution_count": 45,
   "id": "2cbd4854-db17-4f00-b7cb-b6314a8259f1",
   "metadata": {},
   "outputs": [
    {
     "data": {
      "text/plain": [
       "np.int64(0)"
      ]
     },
     "execution_count": 45,
     "metadata": {},
     "output_type": "execute_result"
    }
   ],
   "source": [
    "dup.sum()"
   ]
  },
  {
   "cell_type": "code",
   "execution_count": 46,
   "id": "f451aa75-cc5e-425e-87d0-91f604c8cf68",
   "metadata": {},
   "outputs": [
    {
     "name": "stderr",
     "output_type": "stream",
     "text": [
      "C:\\Users\\admin\\AppData\\Local\\Temp\\ipykernel_41056\\3907310423.py:1: UserWarning: Could not infer format, so each element will be parsed individually, falling back to `dateutil`. To ensure parsing is consistent and as-expected, please specify a format.\n",
      "  df['Time']=pd.to_datetime(df['Time'])\n"
     ]
    }
   ],
   "source": [
    "df['Time']=pd.to_datetime(df['Time'])"
   ]
  },
  {
   "cell_type": "code",
   "execution_count": 50,
   "id": "930f3a94-9236-4c3c-a462-e2210e23a245",
   "metadata": {},
   "outputs": [],
   "source": [
    "df['Driver Ratings']=pd.to_numeric(df['Driver Ratings'],errors='coerce')"
   ]
  },
  {
   "cell_type": "code",
   "execution_count": 51,
   "id": "d80b4144-3f93-4e61-a38f-0c62139c1214",
   "metadata": {},
   "outputs": [
    {
     "name": "stdout",
     "output_type": "stream",
     "text": [
      "<class 'pandas.core.frame.DataFrame'>\n",
      "RangeIndex: 49999 entries, 0 to 49998\n",
      "Data columns (total 21 columns):\n",
      " #   Column                             Non-Null Count  Dtype         \n",
      "---  ------                             --------------  -----         \n",
      " 0   Date                               49999 non-null  object        \n",
      " 1   Time                               49999 non-null  datetime64[ns]\n",
      " 2   Booking ID                         49999 non-null  object        \n",
      " 3   Booking Status                     49999 non-null  object        \n",
      " 4   Customer ID                        49999 non-null  int64         \n",
      " 5   Vehicle Type                       49999 non-null  object        \n",
      " 6   Pickup Location                    49999 non-null  object        \n",
      " 7   Drop Location                      49999 non-null  object        \n",
      " 8   Avg VTAT                           33484 non-null  float64       \n",
      " 9   Avg CTAT                           33484 non-null  float64       \n",
      " 10  Cancelled  by Customer             49999 non-null  int64         \n",
      " 11  Reason for Cancelling by Customer  3799 non-null   object        \n",
      " 12  Cancelled Rides by Driver          49999 non-null  int64         \n",
      " 13  Reason for Cancelling by Driver    9610 non-null   object        \n",
      " 14  Incomplete Rides                   49999 non-null  int64         \n",
      " 15  Incomplete Rides Reason            3106 non-null   object        \n",
      " 16  Booking Value                      33484 non-null  float64       \n",
      " 17  Payment Method                     33484 non-null  object        \n",
      " 18  Ride Distance                      33484 non-null  float64       \n",
      " 19  Driver Ratings                     33484 non-null  float64       \n",
      " 20  Customer Rating                    33484 non-null  float64       \n",
      "dtypes: datetime64[ns](1), float64(6), int64(4), object(10)\n",
      "memory usage: 8.0+ MB\n"
     ]
    }
   ],
   "source": [
    "df.info()"
   ]
  },
  {
   "cell_type": "code",
   "execution_count": 52,
   "id": "609b5366-277b-4346-9d75-2b6a214a2601",
   "metadata": {},
   "outputs": [],
   "source": [
    "df['Vehicle Type'] = df['Vehicle Type'].str.lower().str.strip()"
   ]
  },
  {
   "cell_type": "code",
   "execution_count": 53,
   "id": "8f93e4b4-18c0-4a1d-b81b-4d8418e2844b",
   "metadata": {},
   "outputs": [
    {
     "data": {
      "text/plain": [
       "0               auto\n",
       "1               mini\n",
       "2               bike\n",
       "3        prime sedan\n",
       "4               bike\n",
       "            ...     \n",
       "49994          ebike\n",
       "49995           auto\n",
       "49996           auto\n",
       "49997          ebike\n",
       "49998           bike\n",
       "Name: Vehicle Type, Length: 49999, dtype: object"
      ]
     },
     "execution_count": 53,
     "metadata": {},
     "output_type": "execute_result"
    }
   ],
   "source": [
    "df['Vehicle Type']"
   ]
  },
  {
   "cell_type": "code",
   "execution_count": 54,
   "id": "09db3515-17fa-4afa-bad5-69b0b41da6fb",
   "metadata": {},
   "outputs": [],
   "source": [
    "df['Payment Method'] = df['Payment Method'].str.title().str.strip()"
   ]
  },
  {
   "cell_type": "code",
   "execution_count": 55,
   "id": "7eb718b4-f32c-494b-b66e-bc55e7e6a6ea",
   "metadata": {},
   "outputs": [
    {
     "data": {
      "text/plain": [
       "0        Wallet\n",
       "1           NaN\n",
       "2           NaN\n",
       "3           NaN\n",
       "4           NaN\n",
       "          ...  \n",
       "49994      Card\n",
       "49995       Upi\n",
       "49996       NaN\n",
       "49997       Upi\n",
       "49998      Cash\n",
       "Name: Payment Method, Length: 49999, dtype: object"
      ]
     },
     "execution_count": 55,
     "metadata": {},
     "output_type": "execute_result"
    }
   ],
   "source": [
    "df['Payment Method']"
   ]
  },
  {
   "cell_type": "code",
   "execution_count": 6,
   "id": "a4299808-77d6-4f79-a493-3833755d8f41",
   "metadata": {},
   "outputs": [],
   "source": [
    "df.rename(columns={\n",
    "    'Booking Value': 'booking_value',\n",
    "    'Vehicle Type': 'vehicle_type',\n",
    "    # add more as needed\n",
    "}, inplace=True)"
   ]
  },
  {
   "cell_type": "code",
   "execution_count": 57,
   "id": "24d7ad3b-568e-4ab4-9fc9-d08f5dbe58c9",
   "metadata": {},
   "outputs": [
    {
     "data": {
      "text/html": [
       "<div>\n",
       "<style scoped>\n",
       "    .dataframe tbody tr th:only-of-type {\n",
       "        vertical-align: middle;\n",
       "    }\n",
       "\n",
       "    .dataframe tbody tr th {\n",
       "        vertical-align: top;\n",
       "    }\n",
       "\n",
       "    .dataframe thead th {\n",
       "        text-align: right;\n",
       "    }\n",
       "</style>\n",
       "<table border=\"1\" class=\"dataframe\">\n",
       "  <thead>\n",
       "    <tr style=\"text-align: right;\">\n",
       "      <th></th>\n",
       "      <th>Date</th>\n",
       "      <th>Time</th>\n",
       "      <th>Booking ID</th>\n",
       "      <th>Booking Status</th>\n",
       "      <th>Customer ID</th>\n",
       "      <th>vehicle_type</th>\n",
       "      <th>Pickup Location</th>\n",
       "      <th>Drop Location</th>\n",
       "      <th>Avg VTAT</th>\n",
       "      <th>Avg CTAT</th>\n",
       "      <th>...</th>\n",
       "      <th>Reason for Cancelling by Customer</th>\n",
       "      <th>Cancelled Rides by Driver</th>\n",
       "      <th>Reason for Cancelling by Driver</th>\n",
       "      <th>Incomplete Rides</th>\n",
       "      <th>Incomplete Rides Reason</th>\n",
       "      <th>booking_value</th>\n",
       "      <th>Payment Method</th>\n",
       "      <th>Ride Distance</th>\n",
       "      <th>Driver Ratings</th>\n",
       "      <th>Customer Rating</th>\n",
       "    </tr>\n",
       "  </thead>\n",
       "  <tbody>\n",
       "    <tr>\n",
       "      <th>0</th>\n",
       "      <td>28/01/2024</td>\n",
       "      <td>2025-05-20 06:00:00</td>\n",
       "      <td>CNR1721175</td>\n",
       "      <td>Success</td>\n",
       "      <td>329258</td>\n",
       "      <td>auto</td>\n",
       "      <td>Area-3</td>\n",
       "      <td>Area-2</td>\n",
       "      <td>5.42</td>\n",
       "      <td>18.46</td>\n",
       "      <td>...</td>\n",
       "      <td>NaN</td>\n",
       "      <td>0</td>\n",
       "      <td>NaN</td>\n",
       "      <td>0</td>\n",
       "      <td>NaN</td>\n",
       "      <td>868.06</td>\n",
       "      <td>Wallet</td>\n",
       "      <td>28.50</td>\n",
       "      <td>4.4</td>\n",
       "      <td>4.4</td>\n",
       "    </tr>\n",
       "    <tr>\n",
       "      <th>1</th>\n",
       "      <td>26/01/2024</td>\n",
       "      <td>2025-05-20 03:00:00</td>\n",
       "      <td>CNR2871422</td>\n",
       "      <td>Cancelled by Driver</td>\n",
       "      <td>201414</td>\n",
       "      <td>mini</td>\n",
       "      <td>Area-7</td>\n",
       "      <td>Area-6</td>\n",
       "      <td>NaN</td>\n",
       "      <td>NaN</td>\n",
       "      <td>...</td>\n",
       "      <td>NaN</td>\n",
       "      <td>1</td>\n",
       "      <td>The customer was coughing/sick</td>\n",
       "      <td>0</td>\n",
       "      <td>NaN</td>\n",
       "      <td>NaN</td>\n",
       "      <td>NaN</td>\n",
       "      <td>NaN</td>\n",
       "      <td>NaN</td>\n",
       "      <td>NaN</td>\n",
       "    </tr>\n",
       "    <tr>\n",
       "      <th>2</th>\n",
       "      <td>15/01/2024</td>\n",
       "      <td>2025-05-20 16:00:00</td>\n",
       "      <td>CNR6875935</td>\n",
       "      <td>Cancelled by Driver</td>\n",
       "      <td>301629</td>\n",
       "      <td>bike</td>\n",
       "      <td>Area-40</td>\n",
       "      <td>Area-24</td>\n",
       "      <td>NaN</td>\n",
       "      <td>NaN</td>\n",
       "      <td>...</td>\n",
       "      <td>NaN</td>\n",
       "      <td>1</td>\n",
       "      <td>Personal &amp; Car related issues</td>\n",
       "      <td>0</td>\n",
       "      <td>NaN</td>\n",
       "      <td>NaN</td>\n",
       "      <td>NaN</td>\n",
       "      <td>NaN</td>\n",
       "      <td>NaN</td>\n",
       "      <td>NaN</td>\n",
       "    </tr>\n",
       "    <tr>\n",
       "      <th>3</th>\n",
       "      <td>02/01/2024</td>\n",
       "      <td>2025-05-20 22:00:00</td>\n",
       "      <td>CNR6798834</td>\n",
       "      <td>Cancelled by Driver</td>\n",
       "      <td>319684</td>\n",
       "      <td>prime sedan</td>\n",
       "      <td>Area-11</td>\n",
       "      <td>Area-24</td>\n",
       "      <td>NaN</td>\n",
       "      <td>NaN</td>\n",
       "      <td>...</td>\n",
       "      <td>NaN</td>\n",
       "      <td>1</td>\n",
       "      <td>The customer was coughing/sick</td>\n",
       "      <td>0</td>\n",
       "      <td>NaN</td>\n",
       "      <td>NaN</td>\n",
       "      <td>NaN</td>\n",
       "      <td>NaN</td>\n",
       "      <td>NaN</td>\n",
       "      <td>NaN</td>\n",
       "    </tr>\n",
       "    <tr>\n",
       "      <th>4</th>\n",
       "      <td>30/01/2024</td>\n",
       "      <td>2025-05-20 22:00:00</td>\n",
       "      <td>CNR9661713</td>\n",
       "      <td>Incomplete</td>\n",
       "      <td>330283</td>\n",
       "      <td>bike</td>\n",
       "      <td>Area-41</td>\n",
       "      <td>Area-45</td>\n",
       "      <td>NaN</td>\n",
       "      <td>NaN</td>\n",
       "      <td>...</td>\n",
       "      <td>NaN</td>\n",
       "      <td>0</td>\n",
       "      <td>NaN</td>\n",
       "      <td>1</td>\n",
       "      <td>Other Issue</td>\n",
       "      <td>NaN</td>\n",
       "      <td>NaN</td>\n",
       "      <td>NaN</td>\n",
       "      <td>NaN</td>\n",
       "      <td>NaN</td>\n",
       "    </tr>\n",
       "    <tr>\n",
       "      <th>...</th>\n",
       "      <td>...</td>\n",
       "      <td>...</td>\n",
       "      <td>...</td>\n",
       "      <td>...</td>\n",
       "      <td>...</td>\n",
       "      <td>...</td>\n",
       "      <td>...</td>\n",
       "      <td>...</td>\n",
       "      <td>...</td>\n",
       "      <td>...</td>\n",
       "      <td>...</td>\n",
       "      <td>...</td>\n",
       "      <td>...</td>\n",
       "      <td>...</td>\n",
       "      <td>...</td>\n",
       "      <td>...</td>\n",
       "      <td>...</td>\n",
       "      <td>...</td>\n",
       "      <td>...</td>\n",
       "      <td>...</td>\n",
       "      <td>...</td>\n",
       "    </tr>\n",
       "    <tr>\n",
       "      <th>49994</th>\n",
       "      <td>02/01/2024</td>\n",
       "      <td>2025-05-20 00:00:00</td>\n",
       "      <td>CNR7299340</td>\n",
       "      <td>Success</td>\n",
       "      <td>454202</td>\n",
       "      <td>ebike</td>\n",
       "      <td>Area-39</td>\n",
       "      <td>Area-34</td>\n",
       "      <td>11.53</td>\n",
       "      <td>2.42</td>\n",
       "      <td>...</td>\n",
       "      <td>NaN</td>\n",
       "      <td>0</td>\n",
       "      <td>NaN</td>\n",
       "      <td>0</td>\n",
       "      <td>NaN</td>\n",
       "      <td>1217.43</td>\n",
       "      <td>Card</td>\n",
       "      <td>10.52</td>\n",
       "      <td>4.1</td>\n",
       "      <td>3.2</td>\n",
       "    </tr>\n",
       "    <tr>\n",
       "      <th>49995</th>\n",
       "      <td>27/01/2024</td>\n",
       "      <td>2025-05-20 02:00:00</td>\n",
       "      <td>CNR0378586</td>\n",
       "      <td>Success</td>\n",
       "      <td>349873</td>\n",
       "      <td>auto</td>\n",
       "      <td>Area-17</td>\n",
       "      <td>Area-21</td>\n",
       "      <td>5.56</td>\n",
       "      <td>9.05</td>\n",
       "      <td>...</td>\n",
       "      <td>NaN</td>\n",
       "      <td>0</td>\n",
       "      <td>NaN</td>\n",
       "      <td>0</td>\n",
       "      <td>NaN</td>\n",
       "      <td>1369.51</td>\n",
       "      <td>Upi</td>\n",
       "      <td>11.04</td>\n",
       "      <td>5.0</td>\n",
       "      <td>4.3</td>\n",
       "    </tr>\n",
       "    <tr>\n",
       "      <th>49996</th>\n",
       "      <td>17/01/2024</td>\n",
       "      <td>2025-05-20 23:00:00</td>\n",
       "      <td>CNR2461856</td>\n",
       "      <td>Cancelled by Driver</td>\n",
       "      <td>880053</td>\n",
       "      <td>auto</td>\n",
       "      <td>Area-37</td>\n",
       "      <td>Area-43</td>\n",
       "      <td>NaN</td>\n",
       "      <td>NaN</td>\n",
       "      <td>...</td>\n",
       "      <td>NaN</td>\n",
       "      <td>1</td>\n",
       "      <td>More than permitted people in there</td>\n",
       "      <td>0</td>\n",
       "      <td>NaN</td>\n",
       "      <td>NaN</td>\n",
       "      <td>NaN</td>\n",
       "      <td>NaN</td>\n",
       "      <td>NaN</td>\n",
       "      <td>NaN</td>\n",
       "    </tr>\n",
       "    <tr>\n",
       "      <th>49997</th>\n",
       "      <td>18/01/2024</td>\n",
       "      <td>2025-05-20 22:00:00</td>\n",
       "      <td>CNR9524579</td>\n",
       "      <td>Success</td>\n",
       "      <td>752806</td>\n",
       "      <td>ebike</td>\n",
       "      <td>Area-48</td>\n",
       "      <td>Area-29</td>\n",
       "      <td>5.15</td>\n",
       "      <td>13.72</td>\n",
       "      <td>...</td>\n",
       "      <td>NaN</td>\n",
       "      <td>0</td>\n",
       "      <td>NaN</td>\n",
       "      <td>0</td>\n",
       "      <td>NaN</td>\n",
       "      <td>1930.49</td>\n",
       "      <td>Upi</td>\n",
       "      <td>14.49</td>\n",
       "      <td>3.1</td>\n",
       "      <td>4.5</td>\n",
       "    </tr>\n",
       "    <tr>\n",
       "      <th>49998</th>\n",
       "      <td>28/01/2024</td>\n",
       "      <td>2025-05-20 14:00:00</td>\n",
       "      <td>CNR3698787</td>\n",
       "      <td>Success</td>\n",
       "      <td>159552</td>\n",
       "      <td>bike</td>\n",
       "      <td>Area-1</td>\n",
       "      <td>Area-37</td>\n",
       "      <td>14.89</td>\n",
       "      <td>28.07</td>\n",
       "      <td>...</td>\n",
       "      <td>NaN</td>\n",
       "      <td>0</td>\n",
       "      <td>NaN</td>\n",
       "      <td>0</td>\n",
       "      <td>NaN</td>\n",
       "      <td>1534.66</td>\n",
       "      <td>Cash</td>\n",
       "      <td>4.60</td>\n",
       "      <td>3.3</td>\n",
       "      <td>4.1</td>\n",
       "    </tr>\n",
       "  </tbody>\n",
       "</table>\n",
       "<p>49999 rows × 21 columns</p>\n",
       "</div>"
      ],
      "text/plain": [
       "             Date                Time  Booking ID       Booking Status  \\\n",
       "0      28/01/2024 2025-05-20 06:00:00  CNR1721175              Success   \n",
       "1      26/01/2024 2025-05-20 03:00:00  CNR2871422  Cancelled by Driver   \n",
       "2      15/01/2024 2025-05-20 16:00:00  CNR6875935  Cancelled by Driver   \n",
       "3      02/01/2024 2025-05-20 22:00:00  CNR6798834  Cancelled by Driver   \n",
       "4      30/01/2024 2025-05-20 22:00:00  CNR9661713           Incomplete   \n",
       "...           ...                 ...         ...                  ...   \n",
       "49994  02/01/2024 2025-05-20 00:00:00  CNR7299340              Success   \n",
       "49995  27/01/2024 2025-05-20 02:00:00  CNR0378586              Success   \n",
       "49996  17/01/2024 2025-05-20 23:00:00  CNR2461856  Cancelled by Driver   \n",
       "49997  18/01/2024 2025-05-20 22:00:00  CNR9524579              Success   \n",
       "49998  28/01/2024 2025-05-20 14:00:00  CNR3698787              Success   \n",
       "\n",
       "       Customer ID vehicle_type Pickup Location Drop Location  Avg VTAT  \\\n",
       "0           329258         auto          Area-3        Area-2      5.42   \n",
       "1           201414         mini          Area-7        Area-6       NaN   \n",
       "2           301629         bike         Area-40       Area-24       NaN   \n",
       "3           319684  prime sedan         Area-11       Area-24       NaN   \n",
       "4           330283         bike         Area-41       Area-45       NaN   \n",
       "...            ...          ...             ...           ...       ...   \n",
       "49994       454202        ebike         Area-39       Area-34     11.53   \n",
       "49995       349873         auto         Area-17       Area-21      5.56   \n",
       "49996       880053         auto         Area-37       Area-43       NaN   \n",
       "49997       752806        ebike         Area-48       Area-29      5.15   \n",
       "49998       159552         bike          Area-1       Area-37     14.89   \n",
       "\n",
       "       Avg CTAT  ...  Reason for Cancelling by Customer  \\\n",
       "0         18.46  ...                                NaN   \n",
       "1           NaN  ...                                NaN   \n",
       "2           NaN  ...                                NaN   \n",
       "3           NaN  ...                                NaN   \n",
       "4           NaN  ...                                NaN   \n",
       "...         ...  ...                                ...   \n",
       "49994      2.42  ...                                NaN   \n",
       "49995      9.05  ...                                NaN   \n",
       "49996       NaN  ...                                NaN   \n",
       "49997     13.72  ...                                NaN   \n",
       "49998     28.07  ...                                NaN   \n",
       "\n",
       "      Cancelled Rides by Driver      Reason for Cancelling by Driver  \\\n",
       "0                             0                                  NaN   \n",
       "1                             1       The customer was coughing/sick   \n",
       "2                             1        Personal & Car related issues   \n",
       "3                             1       The customer was coughing/sick   \n",
       "4                             0                                  NaN   \n",
       "...                         ...                                  ...   \n",
       "49994                         0                                  NaN   \n",
       "49995                         0                                  NaN   \n",
       "49996                         1  More than permitted people in there   \n",
       "49997                         0                                  NaN   \n",
       "49998                         0                                  NaN   \n",
       "\n",
       "      Incomplete Rides  Incomplete Rides Reason booking_value  Payment Method  \\\n",
       "0                    0                      NaN        868.06          Wallet   \n",
       "1                    0                      NaN           NaN             NaN   \n",
       "2                    0                      NaN           NaN             NaN   \n",
       "3                    0                      NaN           NaN             NaN   \n",
       "4                    1              Other Issue           NaN             NaN   \n",
       "...                ...                      ...           ...             ...   \n",
       "49994                0                      NaN       1217.43            Card   \n",
       "49995                0                      NaN       1369.51             Upi   \n",
       "49996                0                      NaN           NaN             NaN   \n",
       "49997                0                      NaN       1930.49             Upi   \n",
       "49998                0                      NaN       1534.66            Cash   \n",
       "\n",
       "      Ride Distance  Driver Ratings  Customer Rating  \n",
       "0             28.50             4.4              4.4  \n",
       "1               NaN             NaN              NaN  \n",
       "2               NaN             NaN              NaN  \n",
       "3               NaN             NaN              NaN  \n",
       "4               NaN             NaN              NaN  \n",
       "...             ...             ...              ...  \n",
       "49994         10.52             4.1              3.2  \n",
       "49995         11.04             5.0              4.3  \n",
       "49996           NaN             NaN              NaN  \n",
       "49997         14.49             3.1              4.5  \n",
       "49998          4.60             3.3              4.1  \n",
       "\n",
       "[49999 rows x 21 columns]"
      ]
     },
     "execution_count": 57,
     "metadata": {},
     "output_type": "execute_result"
    }
   ],
   "source": [
    "df"
   ]
  },
  {
   "cell_type": "code",
   "execution_count": 58,
   "id": "347bf026-2fc0-47cf-b273-c169d3897e68",
   "metadata": {},
   "outputs": [],
   "source": [
    "df=df.fillna(0)"
   ]
  },
  {
   "cell_type": "code",
   "execution_count": 59,
   "id": "c8f8c3d5-d2ca-4c2b-a5ef-98058b3ef363",
   "metadata": {},
   "outputs": [
    {
     "data": {
      "text/html": [
       "<div>\n",
       "<style scoped>\n",
       "    .dataframe tbody tr th:only-of-type {\n",
       "        vertical-align: middle;\n",
       "    }\n",
       "\n",
       "    .dataframe tbody tr th {\n",
       "        vertical-align: top;\n",
       "    }\n",
       "\n",
       "    .dataframe thead th {\n",
       "        text-align: right;\n",
       "    }\n",
       "</style>\n",
       "<table border=\"1\" class=\"dataframe\">\n",
       "  <thead>\n",
       "    <tr style=\"text-align: right;\">\n",
       "      <th></th>\n",
       "      <th>Date</th>\n",
       "      <th>Time</th>\n",
       "      <th>Booking ID</th>\n",
       "      <th>Booking Status</th>\n",
       "      <th>Customer ID</th>\n",
       "      <th>vehicle_type</th>\n",
       "      <th>Pickup Location</th>\n",
       "      <th>Drop Location</th>\n",
       "      <th>Avg VTAT</th>\n",
       "      <th>Avg CTAT</th>\n",
       "      <th>...</th>\n",
       "      <th>Reason for Cancelling by Customer</th>\n",
       "      <th>Cancelled Rides by Driver</th>\n",
       "      <th>Reason for Cancelling by Driver</th>\n",
       "      <th>Incomplete Rides</th>\n",
       "      <th>Incomplete Rides Reason</th>\n",
       "      <th>booking_value</th>\n",
       "      <th>Payment Method</th>\n",
       "      <th>Ride Distance</th>\n",
       "      <th>Driver Ratings</th>\n",
       "      <th>Customer Rating</th>\n",
       "    </tr>\n",
       "  </thead>\n",
       "  <tbody>\n",
       "    <tr>\n",
       "      <th>0</th>\n",
       "      <td>28/01/2024</td>\n",
       "      <td>2025-05-20 06:00:00</td>\n",
       "      <td>CNR1721175</td>\n",
       "      <td>Success</td>\n",
       "      <td>329258</td>\n",
       "      <td>auto</td>\n",
       "      <td>Area-3</td>\n",
       "      <td>Area-2</td>\n",
       "      <td>5.42</td>\n",
       "      <td>18.46</td>\n",
       "      <td>...</td>\n",
       "      <td>0</td>\n",
       "      <td>0</td>\n",
       "      <td>0</td>\n",
       "      <td>0</td>\n",
       "      <td>0</td>\n",
       "      <td>868.06</td>\n",
       "      <td>Wallet</td>\n",
       "      <td>28.50</td>\n",
       "      <td>4.4</td>\n",
       "      <td>4.4</td>\n",
       "    </tr>\n",
       "    <tr>\n",
       "      <th>1</th>\n",
       "      <td>26/01/2024</td>\n",
       "      <td>2025-05-20 03:00:00</td>\n",
       "      <td>CNR2871422</td>\n",
       "      <td>Cancelled by Driver</td>\n",
       "      <td>201414</td>\n",
       "      <td>mini</td>\n",
       "      <td>Area-7</td>\n",
       "      <td>Area-6</td>\n",
       "      <td>0.00</td>\n",
       "      <td>0.00</td>\n",
       "      <td>...</td>\n",
       "      <td>0</td>\n",
       "      <td>1</td>\n",
       "      <td>The customer was coughing/sick</td>\n",
       "      <td>0</td>\n",
       "      <td>0</td>\n",
       "      <td>0.00</td>\n",
       "      <td>0</td>\n",
       "      <td>0.00</td>\n",
       "      <td>0.0</td>\n",
       "      <td>0.0</td>\n",
       "    </tr>\n",
       "    <tr>\n",
       "      <th>2</th>\n",
       "      <td>15/01/2024</td>\n",
       "      <td>2025-05-20 16:00:00</td>\n",
       "      <td>CNR6875935</td>\n",
       "      <td>Cancelled by Driver</td>\n",
       "      <td>301629</td>\n",
       "      <td>bike</td>\n",
       "      <td>Area-40</td>\n",
       "      <td>Area-24</td>\n",
       "      <td>0.00</td>\n",
       "      <td>0.00</td>\n",
       "      <td>...</td>\n",
       "      <td>0</td>\n",
       "      <td>1</td>\n",
       "      <td>Personal &amp; Car related issues</td>\n",
       "      <td>0</td>\n",
       "      <td>0</td>\n",
       "      <td>0.00</td>\n",
       "      <td>0</td>\n",
       "      <td>0.00</td>\n",
       "      <td>0.0</td>\n",
       "      <td>0.0</td>\n",
       "    </tr>\n",
       "    <tr>\n",
       "      <th>3</th>\n",
       "      <td>02/01/2024</td>\n",
       "      <td>2025-05-20 22:00:00</td>\n",
       "      <td>CNR6798834</td>\n",
       "      <td>Cancelled by Driver</td>\n",
       "      <td>319684</td>\n",
       "      <td>prime sedan</td>\n",
       "      <td>Area-11</td>\n",
       "      <td>Area-24</td>\n",
       "      <td>0.00</td>\n",
       "      <td>0.00</td>\n",
       "      <td>...</td>\n",
       "      <td>0</td>\n",
       "      <td>1</td>\n",
       "      <td>The customer was coughing/sick</td>\n",
       "      <td>0</td>\n",
       "      <td>0</td>\n",
       "      <td>0.00</td>\n",
       "      <td>0</td>\n",
       "      <td>0.00</td>\n",
       "      <td>0.0</td>\n",
       "      <td>0.0</td>\n",
       "    </tr>\n",
       "    <tr>\n",
       "      <th>4</th>\n",
       "      <td>30/01/2024</td>\n",
       "      <td>2025-05-20 22:00:00</td>\n",
       "      <td>CNR9661713</td>\n",
       "      <td>Incomplete</td>\n",
       "      <td>330283</td>\n",
       "      <td>bike</td>\n",
       "      <td>Area-41</td>\n",
       "      <td>Area-45</td>\n",
       "      <td>0.00</td>\n",
       "      <td>0.00</td>\n",
       "      <td>...</td>\n",
       "      <td>0</td>\n",
       "      <td>0</td>\n",
       "      <td>0</td>\n",
       "      <td>1</td>\n",
       "      <td>Other Issue</td>\n",
       "      <td>0.00</td>\n",
       "      <td>0</td>\n",
       "      <td>0.00</td>\n",
       "      <td>0.0</td>\n",
       "      <td>0.0</td>\n",
       "    </tr>\n",
       "    <tr>\n",
       "      <th>...</th>\n",
       "      <td>...</td>\n",
       "      <td>...</td>\n",
       "      <td>...</td>\n",
       "      <td>...</td>\n",
       "      <td>...</td>\n",
       "      <td>...</td>\n",
       "      <td>...</td>\n",
       "      <td>...</td>\n",
       "      <td>...</td>\n",
       "      <td>...</td>\n",
       "      <td>...</td>\n",
       "      <td>...</td>\n",
       "      <td>...</td>\n",
       "      <td>...</td>\n",
       "      <td>...</td>\n",
       "      <td>...</td>\n",
       "      <td>...</td>\n",
       "      <td>...</td>\n",
       "      <td>...</td>\n",
       "      <td>...</td>\n",
       "      <td>...</td>\n",
       "    </tr>\n",
       "    <tr>\n",
       "      <th>49994</th>\n",
       "      <td>02/01/2024</td>\n",
       "      <td>2025-05-20 00:00:00</td>\n",
       "      <td>CNR7299340</td>\n",
       "      <td>Success</td>\n",
       "      <td>454202</td>\n",
       "      <td>ebike</td>\n",
       "      <td>Area-39</td>\n",
       "      <td>Area-34</td>\n",
       "      <td>11.53</td>\n",
       "      <td>2.42</td>\n",
       "      <td>...</td>\n",
       "      <td>0</td>\n",
       "      <td>0</td>\n",
       "      <td>0</td>\n",
       "      <td>0</td>\n",
       "      <td>0</td>\n",
       "      <td>1217.43</td>\n",
       "      <td>Card</td>\n",
       "      <td>10.52</td>\n",
       "      <td>4.1</td>\n",
       "      <td>3.2</td>\n",
       "    </tr>\n",
       "    <tr>\n",
       "      <th>49995</th>\n",
       "      <td>27/01/2024</td>\n",
       "      <td>2025-05-20 02:00:00</td>\n",
       "      <td>CNR0378586</td>\n",
       "      <td>Success</td>\n",
       "      <td>349873</td>\n",
       "      <td>auto</td>\n",
       "      <td>Area-17</td>\n",
       "      <td>Area-21</td>\n",
       "      <td>5.56</td>\n",
       "      <td>9.05</td>\n",
       "      <td>...</td>\n",
       "      <td>0</td>\n",
       "      <td>0</td>\n",
       "      <td>0</td>\n",
       "      <td>0</td>\n",
       "      <td>0</td>\n",
       "      <td>1369.51</td>\n",
       "      <td>Upi</td>\n",
       "      <td>11.04</td>\n",
       "      <td>5.0</td>\n",
       "      <td>4.3</td>\n",
       "    </tr>\n",
       "    <tr>\n",
       "      <th>49996</th>\n",
       "      <td>17/01/2024</td>\n",
       "      <td>2025-05-20 23:00:00</td>\n",
       "      <td>CNR2461856</td>\n",
       "      <td>Cancelled by Driver</td>\n",
       "      <td>880053</td>\n",
       "      <td>auto</td>\n",
       "      <td>Area-37</td>\n",
       "      <td>Area-43</td>\n",
       "      <td>0.00</td>\n",
       "      <td>0.00</td>\n",
       "      <td>...</td>\n",
       "      <td>0</td>\n",
       "      <td>1</td>\n",
       "      <td>More than permitted people in there</td>\n",
       "      <td>0</td>\n",
       "      <td>0</td>\n",
       "      <td>0.00</td>\n",
       "      <td>0</td>\n",
       "      <td>0.00</td>\n",
       "      <td>0.0</td>\n",
       "      <td>0.0</td>\n",
       "    </tr>\n",
       "    <tr>\n",
       "      <th>49997</th>\n",
       "      <td>18/01/2024</td>\n",
       "      <td>2025-05-20 22:00:00</td>\n",
       "      <td>CNR9524579</td>\n",
       "      <td>Success</td>\n",
       "      <td>752806</td>\n",
       "      <td>ebike</td>\n",
       "      <td>Area-48</td>\n",
       "      <td>Area-29</td>\n",
       "      <td>5.15</td>\n",
       "      <td>13.72</td>\n",
       "      <td>...</td>\n",
       "      <td>0</td>\n",
       "      <td>0</td>\n",
       "      <td>0</td>\n",
       "      <td>0</td>\n",
       "      <td>0</td>\n",
       "      <td>1930.49</td>\n",
       "      <td>Upi</td>\n",
       "      <td>14.49</td>\n",
       "      <td>3.1</td>\n",
       "      <td>4.5</td>\n",
       "    </tr>\n",
       "    <tr>\n",
       "      <th>49998</th>\n",
       "      <td>28/01/2024</td>\n",
       "      <td>2025-05-20 14:00:00</td>\n",
       "      <td>CNR3698787</td>\n",
       "      <td>Success</td>\n",
       "      <td>159552</td>\n",
       "      <td>bike</td>\n",
       "      <td>Area-1</td>\n",
       "      <td>Area-37</td>\n",
       "      <td>14.89</td>\n",
       "      <td>28.07</td>\n",
       "      <td>...</td>\n",
       "      <td>0</td>\n",
       "      <td>0</td>\n",
       "      <td>0</td>\n",
       "      <td>0</td>\n",
       "      <td>0</td>\n",
       "      <td>1534.66</td>\n",
       "      <td>Cash</td>\n",
       "      <td>4.60</td>\n",
       "      <td>3.3</td>\n",
       "      <td>4.1</td>\n",
       "    </tr>\n",
       "  </tbody>\n",
       "</table>\n",
       "<p>49999 rows × 21 columns</p>\n",
       "</div>"
      ],
      "text/plain": [
       "             Date                Time  Booking ID       Booking Status  \\\n",
       "0      28/01/2024 2025-05-20 06:00:00  CNR1721175              Success   \n",
       "1      26/01/2024 2025-05-20 03:00:00  CNR2871422  Cancelled by Driver   \n",
       "2      15/01/2024 2025-05-20 16:00:00  CNR6875935  Cancelled by Driver   \n",
       "3      02/01/2024 2025-05-20 22:00:00  CNR6798834  Cancelled by Driver   \n",
       "4      30/01/2024 2025-05-20 22:00:00  CNR9661713           Incomplete   \n",
       "...           ...                 ...         ...                  ...   \n",
       "49994  02/01/2024 2025-05-20 00:00:00  CNR7299340              Success   \n",
       "49995  27/01/2024 2025-05-20 02:00:00  CNR0378586              Success   \n",
       "49996  17/01/2024 2025-05-20 23:00:00  CNR2461856  Cancelled by Driver   \n",
       "49997  18/01/2024 2025-05-20 22:00:00  CNR9524579              Success   \n",
       "49998  28/01/2024 2025-05-20 14:00:00  CNR3698787              Success   \n",
       "\n",
       "       Customer ID vehicle_type Pickup Location Drop Location  Avg VTAT  \\\n",
       "0           329258         auto          Area-3        Area-2      5.42   \n",
       "1           201414         mini          Area-7        Area-6      0.00   \n",
       "2           301629         bike         Area-40       Area-24      0.00   \n",
       "3           319684  prime sedan         Area-11       Area-24      0.00   \n",
       "4           330283         bike         Area-41       Area-45      0.00   \n",
       "...            ...          ...             ...           ...       ...   \n",
       "49994       454202        ebike         Area-39       Area-34     11.53   \n",
       "49995       349873         auto         Area-17       Area-21      5.56   \n",
       "49996       880053         auto         Area-37       Area-43      0.00   \n",
       "49997       752806        ebike         Area-48       Area-29      5.15   \n",
       "49998       159552         bike          Area-1       Area-37     14.89   \n",
       "\n",
       "       Avg CTAT  ...  Reason for Cancelling by Customer  \\\n",
       "0         18.46  ...                                  0   \n",
       "1          0.00  ...                                  0   \n",
       "2          0.00  ...                                  0   \n",
       "3          0.00  ...                                  0   \n",
       "4          0.00  ...                                  0   \n",
       "...         ...  ...                                ...   \n",
       "49994      2.42  ...                                  0   \n",
       "49995      9.05  ...                                  0   \n",
       "49996      0.00  ...                                  0   \n",
       "49997     13.72  ...                                  0   \n",
       "49998     28.07  ...                                  0   \n",
       "\n",
       "      Cancelled Rides by Driver      Reason for Cancelling by Driver  \\\n",
       "0                             0                                    0   \n",
       "1                             1       The customer was coughing/sick   \n",
       "2                             1        Personal & Car related issues   \n",
       "3                             1       The customer was coughing/sick   \n",
       "4                             0                                    0   \n",
       "...                         ...                                  ...   \n",
       "49994                         0                                    0   \n",
       "49995                         0                                    0   \n",
       "49996                         1  More than permitted people in there   \n",
       "49997                         0                                    0   \n",
       "49998                         0                                    0   \n",
       "\n",
       "      Incomplete Rides  Incomplete Rides Reason booking_value  Payment Method  \\\n",
       "0                    0                        0        868.06          Wallet   \n",
       "1                    0                        0          0.00               0   \n",
       "2                    0                        0          0.00               0   \n",
       "3                    0                        0          0.00               0   \n",
       "4                    1              Other Issue          0.00               0   \n",
       "...                ...                      ...           ...             ...   \n",
       "49994                0                        0       1217.43            Card   \n",
       "49995                0                        0       1369.51             Upi   \n",
       "49996                0                        0          0.00               0   \n",
       "49997                0                        0       1930.49             Upi   \n",
       "49998                0                        0       1534.66            Cash   \n",
       "\n",
       "      Ride Distance  Driver Ratings  Customer Rating  \n",
       "0             28.50             4.4              4.4  \n",
       "1              0.00             0.0              0.0  \n",
       "2              0.00             0.0              0.0  \n",
       "3              0.00             0.0              0.0  \n",
       "4              0.00             0.0              0.0  \n",
       "...             ...             ...              ...  \n",
       "49994         10.52             4.1              3.2  \n",
       "49995         11.04             5.0              4.3  \n",
       "49996          0.00             0.0              0.0  \n",
       "49997         14.49             3.1              4.5  \n",
       "49998          4.60             3.3              4.1  \n",
       "\n",
       "[49999 rows x 21 columns]"
      ]
     },
     "execution_count": 59,
     "metadata": {},
     "output_type": "execute_result"
    }
   ],
   "source": [
    "df"
   ]
  },
  {
   "cell_type": "code",
   "execution_count": 63,
   "id": "e1f5017d-0f22-4a8c-9a99-ab53e8d458cb",
   "metadata": {},
   "outputs": [
    {
     "data": {
      "text/plain": [
       "array(['auto', 'mini', 'bike', 'prime sedan', 'prime plus', 'ebike',\n",
       "       'prime suv'], dtype=object)"
      ]
     },
     "execution_count": 63,
     "metadata": {},
     "output_type": "execute_result"
    }
   ],
   "source": [
    "df['vehicle_type'].unique()"
   ]
  },
  {
   "cell_type": "code",
   "execution_count": 65,
   "id": "d0663a37-3ee6-4650-b5e8-17caaa3e5824",
   "metadata": {},
   "outputs": [
    {
     "data": {
      "text/plain": [
       "vehicle_type\n",
       "prime plus     7252\n",
       "bike           7223\n",
       "prime sedan    7179\n",
       "prime suv      7140\n",
       "auto           7098\n",
       "ebike          7097\n",
       "mini           7010\n",
       "Name: count, dtype: int64"
      ]
     },
     "execution_count": 65,
     "metadata": {},
     "output_type": "execute_result"
    }
   ],
   "source": [
    "df['vehicle_type'].value_counts()"
   ]
  },
  {
   "cell_type": "code",
   "execution_count": 66,
   "id": "9164fffb-2301-4a19-9451-1d7c773a5b06",
   "metadata": {},
   "outputs": [
    {
     "data": {
      "text/plain": [
       "Booking Status\n",
       "Success                  33484\n",
       "Cancelled by Driver       9610\n",
       "Cancelled by Customer     3799\n",
       "Incomplete                3106\n",
       "Name: count, dtype: int64"
      ]
     },
     "execution_count": 66,
     "metadata": {},
     "output_type": "execute_result"
    }
   ],
   "source": [
    "df['Booking Status'].value_counts()"
   ]
  },
  {
   "cell_type": "code",
   "execution_count": 67,
   "id": "de719a4f-6756-498c-839b-a2e87a811813",
   "metadata": {},
   "outputs": [
    {
     "data": {
      "text/plain": [
       "array(['Success', 'Cancelled by Driver', 'Incomplete',\n",
       "       'Cancelled by Customer'], dtype=object)"
      ]
     },
     "execution_count": 67,
     "metadata": {},
     "output_type": "execute_result"
    }
   ],
   "source": [
    "df['Booking Status'].unique()"
   ]
  },
  {
   "cell_type": "code",
   "execution_count": 74,
   "id": "ea7ba820-9a1c-41c7-92a7-78db508cf117",
   "metadata": {},
   "outputs": [
    {
     "data": {
      "text/plain": [
       "Booking Status\n",
       "Success    33484\n",
       "Name: count, dtype: int64"
      ]
     },
     "execution_count": 74,
     "metadata": {},
     "output_type": "execute_result"
    }
   ],
   "source": [
    "df[df['Booking Status']=='Success']['Booking Status'].value_counts()"
   ]
  },
  {
   "cell_type": "code",
   "execution_count": 75,
   "id": "8daf8fa5-8335-4728-a224-7beab0a40765",
   "metadata": {},
   "outputs": [
    {
     "data": {
      "text/plain": [
       "Reason for Cancelling by Driver\n",
       "0                                      40389\n",
       "More than permitted people in there     2512\n",
       "Personal & Car related issues           2413\n",
       "Customer related issue                  2402\n",
       "The customer was coughing/sick          2283\n",
       "Name: count, dtype: int64"
      ]
     },
     "execution_count": 75,
     "metadata": {},
     "output_type": "execute_result"
    }
   ],
   "source": [
    "df['Reason for Cancelling by Driver'].value_counts()"
   ]
  },
  {
   "cell_type": "code",
   "execution_count": 76,
   "id": "18f6205f-f823-4912-aeb2-23a5bb605aa9",
   "metadata": {},
   "outputs": [
    {
     "data": {
      "text/plain": [
       "7"
      ]
     },
     "execution_count": 76,
     "metadata": {},
     "output_type": "execute_result"
    }
   ],
   "source": [
    "df['vehicle_type'].nunique()"
   ]
  },
  {
   "cell_type": "code",
   "execution_count": 77,
   "id": "417ca01c-6726-4fc3-aef6-2ab69a036bb2",
   "metadata": {},
   "outputs": [
    {
     "data": {
      "text/plain": [
       "4"
      ]
     },
     "execution_count": 77,
     "metadata": {},
     "output_type": "execute_result"
    }
   ],
   "source": [
    "df['Booking Status'].nunique()"
   ]
  },
  {
   "cell_type": "code",
   "execution_count": 79,
   "id": "44dd2dec-eaa1-4073-80d9-2974677c17d7",
   "metadata": {},
   "outputs": [
    {
     "data": {
      "text/plain": [
       "array(['Wallet', 0, 'Card', 'Upi', 'Cash'], dtype=object)"
      ]
     },
     "execution_count": 79,
     "metadata": {},
     "output_type": "execute_result"
    }
   ],
   "source": [
    "df['Payment Method'].unique()"
   ]
  },
  {
   "cell_type": "code",
   "execution_count": 80,
   "id": "dc179f8e-4e4b-4b3d-967f-11e329aea3de",
   "metadata": {},
   "outputs": [
    {
     "data": {
      "text/plain": [
       "5"
      ]
     },
     "execution_count": 80,
     "metadata": {},
     "output_type": "execute_result"
    }
   ],
   "source": [
    "df['Payment Method'].nunique()"
   ]
  },
  {
   "cell_type": "code",
   "execution_count": 81,
   "id": "258913d3-24a2-4b80-b6f9-f9a30dcd11df",
   "metadata": {},
   "outputs": [
    {
     "data": {
      "text/plain": [
       "Payment Method\n",
       "Card    8280\n",
       "Name: count, dtype: int64"
      ]
     },
     "execution_count": 81,
     "metadata": {},
     "output_type": "execute_result"
    }
   ],
   "source": [
    "df[df['Payment Method']=='Card']['Payment Method'].value_counts()"
   ]
  },
  {
   "cell_type": "code",
   "execution_count": 82,
   "id": "8c1d9572-e25a-4c94-b4ec-14be795e589d",
   "metadata": {},
   "outputs": [
    {
     "data": {
      "text/plain": [
       "Payment Method\n",
       "Upi    8428\n",
       "Name: count, dtype: int64"
      ]
     },
     "execution_count": 82,
     "metadata": {},
     "output_type": "execute_result"
    }
   ],
   "source": [
    "df[df['Payment Method']=='Upi']['Payment Method'].value_counts()"
   ]
  },
  {
   "cell_type": "code",
   "execution_count": 83,
   "id": "facbda63-2402-415f-b736-7778f7abf2d1",
   "metadata": {},
   "outputs": [
    {
     "data": {
      "text/plain": [
       "Payment Method\n",
       "Wallet    8224\n",
       "Name: count, dtype: int64"
      ]
     },
     "execution_count": 83,
     "metadata": {},
     "output_type": "execute_result"
    }
   ],
   "source": [
    "df[df['Payment Method']=='Wallet']['Payment Method'].value_counts()"
   ]
  },
  {
   "cell_type": "code",
   "execution_count": 84,
   "id": "7c16c57f-4dad-43a7-9917-d19b148f480c",
   "metadata": {},
   "outputs": [
    {
     "data": {
      "text/plain": [
       "Payment Method\n",
       "Cash    8552\n",
       "Name: count, dtype: int64"
      ]
     },
     "execution_count": 84,
     "metadata": {},
     "output_type": "execute_result"
    }
   ],
   "source": [
    "df[df['Payment Method']=='Cash']['Payment Method'].value_counts()"
   ]
  },
  {
   "cell_type": "code",
   "execution_count": 85,
   "id": "0857a752-7f40-4aac-9c58-c0296fd9424f",
   "metadata": {},
   "outputs": [
    {
     "data": {
      "text/plain": [
       "Series([], Name: count, dtype: int64)"
      ]
     },
     "execution_count": 85,
     "metadata": {},
     "output_type": "execute_result"
    }
   ],
   "source": [
    "df[df['Payment Method']=='0']['Payment Method'].value_counts()"
   ]
  },
  {
   "cell_type": "code",
   "execution_count": 86,
   "id": "36e5ae07-434a-4861-a7cc-5d0d948cd00c",
   "metadata": {},
   "outputs": [
    {
     "data": {
      "text/plain": [
       "Payment Method\n",
       "0    16515\n",
       "Name: count, dtype: int64"
      ]
     },
     "execution_count": 86,
     "metadata": {},
     "output_type": "execute_result"
    }
   ],
   "source": [
    "df[df['Payment Method']==0]['Payment Method'].value_counts()"
   ]
  },
  {
   "cell_type": "code",
   "execution_count": 91,
   "id": "c0712683-b87b-42a7-bb61-511ac5090b5f",
   "metadata": {},
   "outputs": [
    {
     "data": {
      "text/plain": [
       "<Axes: >"
      ]
     },
     "execution_count": 91,
     "metadata": {},
     "output_type": "execute_result"
    },
    {
     "data": {
      "image/png": "[encoded data removed]",
      "text/plain": [
       "<Figure size 1000x400 with 1 Axes>"
      ]
     },
     "metadata": {},
     "output_type": "display_data"
    }
   ],
   "source": [
    "plt.figure(figsize=(10,4))\n",
    "df['vehicle_type'].hist(bins=10)"
   ]
  },
  {
   "cell_type": "code",
   "execution_count": 92,
   "id": "4f0f3398-79ce-4e72-830b-1a8e36a68334",
   "metadata": {},
   "outputs": [
    {
     "data": {
      "text/plain": [
       "<Axes: >"
      ]
     },
     "execution_count": 92,
     "metadata": {},
     "output_type": "execute_result"
    },
    {
     "data": {
      "image/png": "[encoded data removed]",
      "text/plain": [
       "<Figure size 640x480 with 1 Axes>"
      ]
     },
     "metadata": {},
     "output_type": "display_data"
    }
   ],
   "source": [
    "df['Booking Status'].hist(bins=10)"
   ]
  },
  {
   "cell_type": "code",
   "execution_count": 93,
   "id": "e87ea791-d6d1-467d-a762-8435c6aa78fc",
   "metadata": {},
   "outputs": [
    {
     "data": {
      "text/html": [
       "<div>\n",
       "<style scoped>\n",
       "    .dataframe tbody tr th:only-of-type {\n",
       "        vertical-align: middle;\n",
       "    }\n",
       "\n",
       "    .dataframe tbody tr th {\n",
       "        vertical-align: top;\n",
       "    }\n",
       "\n",
       "    .dataframe thead th {\n",
       "        text-align: right;\n",
       "    }\n",
       "</style>\n",
       "<table border=\"1\" class=\"dataframe\">\n",
       "  <thead>\n",
       "    <tr style=\"text-align: right;\">\n",
       "      <th></th>\n",
       "      <th>Date</th>\n",
       "      <th>Time</th>\n",
       "      <th>Booking ID</th>\n",
       "      <th>Booking Status</th>\n",
       "      <th>Customer ID</th>\n",
       "      <th>vehicle_type</th>\n",
       "      <th>Pickup Location</th>\n",
       "      <th>Drop Location</th>\n",
       "      <th>Avg VTAT</th>\n",
       "      <th>Avg CTAT</th>\n",
       "      <th>...</th>\n",
       "      <th>Reason for Cancelling by Customer</th>\n",
       "      <th>Cancelled Rides by Driver</th>\n",
       "      <th>Reason for Cancelling by Driver</th>\n",
       "      <th>Incomplete Rides</th>\n",
       "      <th>Incomplete Rides Reason</th>\n",
       "      <th>booking_value</th>\n",
       "      <th>Payment Method</th>\n",
       "      <th>Ride Distance</th>\n",
       "      <th>Driver Ratings</th>\n",
       "      <th>Customer Rating</th>\n",
       "    </tr>\n",
       "  </thead>\n",
       "  <tbody>\n",
       "    <tr>\n",
       "      <th>0</th>\n",
       "      <td>28/01/2024</td>\n",
       "      <td>2025-05-20 06:00:00</td>\n",
       "      <td>CNR1721175</td>\n",
       "      <td>Success</td>\n",
       "      <td>329258</td>\n",
       "      <td>auto</td>\n",
       "      <td>Area-3</td>\n",
       "      <td>Area-2</td>\n",
       "      <td>5.42</td>\n",
       "      <td>18.46</td>\n",
       "      <td>...</td>\n",
       "      <td>0</td>\n",
       "      <td>0</td>\n",
       "      <td>0</td>\n",
       "      <td>0</td>\n",
       "      <td>0</td>\n",
       "      <td>868.06</td>\n",
       "      <td>Wallet</td>\n",
       "      <td>28.50</td>\n",
       "      <td>4.4</td>\n",
       "      <td>4.4</td>\n",
       "    </tr>\n",
       "    <tr>\n",
       "      <th>1</th>\n",
       "      <td>26/01/2024</td>\n",
       "      <td>2025-05-20 03:00:00</td>\n",
       "      <td>CNR2871422</td>\n",
       "      <td>Cancelled by Driver</td>\n",
       "      <td>201414</td>\n",
       "      <td>mini</td>\n",
       "      <td>Area-7</td>\n",
       "      <td>Area-6</td>\n",
       "      <td>0.00</td>\n",
       "      <td>0.00</td>\n",
       "      <td>...</td>\n",
       "      <td>0</td>\n",
       "      <td>1</td>\n",
       "      <td>The customer was coughing/sick</td>\n",
       "      <td>0</td>\n",
       "      <td>0</td>\n",
       "      <td>0.00</td>\n",
       "      <td>0</td>\n",
       "      <td>0.00</td>\n",
       "      <td>0.0</td>\n",
       "      <td>0.0</td>\n",
       "    </tr>\n",
       "    <tr>\n",
       "      <th>2</th>\n",
       "      <td>15/01/2024</td>\n",
       "      <td>2025-05-20 16:00:00</td>\n",
       "      <td>CNR6875935</td>\n",
       "      <td>Cancelled by Driver</td>\n",
       "      <td>301629</td>\n",
       "      <td>bike</td>\n",
       "      <td>Area-40</td>\n",
       "      <td>Area-24</td>\n",
       "      <td>0.00</td>\n",
       "      <td>0.00</td>\n",
       "      <td>...</td>\n",
       "      <td>0</td>\n",
       "      <td>1</td>\n",
       "      <td>Personal &amp; Car related issues</td>\n",
       "      <td>0</td>\n",
       "      <td>0</td>\n",
       "      <td>0.00</td>\n",
       "      <td>0</td>\n",
       "      <td>0.00</td>\n",
       "      <td>0.0</td>\n",
       "      <td>0.0</td>\n",
       "    </tr>\n",
       "    <tr>\n",
       "      <th>3</th>\n",
       "      <td>02/01/2024</td>\n",
       "      <td>2025-05-20 22:00:00</td>\n",
       "      <td>CNR6798834</td>\n",
       "      <td>Cancelled by Driver</td>\n",
       "      <td>319684</td>\n",
       "      <td>prime sedan</td>\n",
       "      <td>Area-11</td>\n",
       "      <td>Area-24</td>\n",
       "      <td>0.00</td>\n",
       "      <td>0.00</td>\n",
       "      <td>...</td>\n",
       "      <td>0</td>\n",
       "      <td>1</td>\n",
       "      <td>The customer was coughing/sick</td>\n",
       "      <td>0</td>\n",
       "      <td>0</td>\n",
       "      <td>0.00</td>\n",
       "      <td>0</td>\n",
       "      <td>0.00</td>\n",
       "      <td>0.0</td>\n",
       "      <td>0.0</td>\n",
       "    </tr>\n",
       "    <tr>\n",
       "      <th>4</th>\n",
       "      <td>30/01/2024</td>\n",
       "      <td>2025-05-20 22:00:00</td>\n",
       "      <td>CNR9661713</td>\n",
       "      <td>Incomplete</td>\n",
       "      <td>330283</td>\n",
       "      <td>bike</td>\n",
       "      <td>Area-41</td>\n",
       "      <td>Area-45</td>\n",
       "      <td>0.00</td>\n",
       "      <td>0.00</td>\n",
       "      <td>...</td>\n",
       "      <td>0</td>\n",
       "      <td>0</td>\n",
       "      <td>0</td>\n",
       "      <td>1</td>\n",
       "      <td>Other Issue</td>\n",
       "      <td>0.00</td>\n",
       "      <td>0</td>\n",
       "      <td>0.00</td>\n",
       "      <td>0.0</td>\n",
       "      <td>0.0</td>\n",
       "    </tr>\n",
       "    <tr>\n",
       "      <th>...</th>\n",
       "      <td>...</td>\n",
       "      <td>...</td>\n",
       "      <td>...</td>\n",
       "      <td>...</td>\n",
       "      <td>...</td>\n",
       "      <td>...</td>\n",
       "      <td>...</td>\n",
       "      <td>...</td>\n",
       "      <td>...</td>\n",
       "      <td>...</td>\n",
       "      <td>...</td>\n",
       "      <td>...</td>\n",
       "      <td>...</td>\n",
       "      <td>...</td>\n",
       "      <td>...</td>\n",
       "      <td>...</td>\n",
       "      <td>...</td>\n",
       "      <td>...</td>\n",
       "      <td>...</td>\n",
       "      <td>...</td>\n",
       "      <td>...</td>\n",
       "    </tr>\n",
       "    <tr>\n",
       "      <th>49994</th>\n",
       "      <td>02/01/2024</td>\n",
       "      <td>2025-05-20 00:00:00</td>\n",
       "      <td>CNR7299340</td>\n",
       "      <td>Success</td>\n",
       "      <td>454202</td>\n",
       "      <td>ebike</td>\n",
       "      <td>Area-39</td>\n",
       "      <td>Area-34</td>\n",
       "      <td>11.53</td>\n",
       "      <td>2.42</td>\n",
       "      <td>...</td>\n",
       "      <td>0</td>\n",
       "      <td>0</td>\n",
       "      <td>0</td>\n",
       "      <td>0</td>\n",
       "      <td>0</td>\n",
       "      <td>1217.43</td>\n",
       "      <td>Card</td>\n",
       "      <td>10.52</td>\n",
       "      <td>4.1</td>\n",
       "      <td>3.2</td>\n",
       "    </tr>\n",
       "    <tr>\n",
       "      <th>49995</th>\n",
       "      <td>27/01/2024</td>\n",
       "      <td>2025-05-20 02:00:00</td>\n",
       "      <td>CNR0378586</td>\n",
       "      <td>Success</td>\n",
       "      <td>349873</td>\n",
       "      <td>auto</td>\n",
       "      <td>Area-17</td>\n",
       "      <td>Area-21</td>\n",
       "      <td>5.56</td>\n",
       "      <td>9.05</td>\n",
       "      <td>...</td>\n",
       "      <td>0</td>\n",
       "      <td>0</td>\n",
       "      <td>0</td>\n",
       "      <td>0</td>\n",
       "      <td>0</td>\n",
       "      <td>1369.51</td>\n",
       "      <td>Upi</td>\n",
       "      <td>11.04</td>\n",
       "      <td>5.0</td>\n",
       "      <td>4.3</td>\n",
       "    </tr>\n",
       "    <tr>\n",
       "      <th>49996</th>\n",
       "      <td>17/01/2024</td>\n",
       "      <td>2025-05-20 23:00:00</td>\n",
       "      <td>CNR2461856</td>\n",
       "      <td>Cancelled by Driver</td>\n",
       "      <td>880053</td>\n",
       "      <td>auto</td>\n",
       "      <td>Area-37</td>\n",
       "      <td>Area-43</td>\n",
       "      <td>0.00</td>\n",
       "      <td>0.00</td>\n",
       "      <td>...</td>\n",
       "      <td>0</td>\n",
       "      <td>1</td>\n",
       "      <td>More than permitted people in there</td>\n",
       "      <td>0</td>\n",
       "      <td>0</td>\n",
       "      <td>0.00</td>\n",
       "      <td>0</td>\n",
       "      <td>0.00</td>\n",
       "      <td>0.0</td>\n",
       "      <td>0.0</td>\n",
       "    </tr>\n",
       "    <tr>\n",
       "      <th>49997</th>\n",
       "      <td>18/01/2024</td>\n",
       "      <td>2025-05-20 22:00:00</td>\n",
       "      <td>CNR9524579</td>\n",
       "      <td>Success</td>\n",
       "      <td>752806</td>\n",
       "      <td>ebike</td>\n",
       "      <td>Area-48</td>\n",
       "      <td>Area-29</td>\n",
       "      <td>5.15</td>\n",
       "      <td>13.72</td>\n",
       "      <td>...</td>\n",
       "      <td>0</td>\n",
       "      <td>0</td>\n",
       "      <td>0</td>\n",
       "      <td>0</td>\n",
       "      <td>0</td>\n",
       "      <td>1930.49</td>\n",
       "      <td>Upi</td>\n",
       "      <td>14.49</td>\n",
       "      <td>3.1</td>\n",
       "      <td>4.5</td>\n",
       "    </tr>\n",
       "    <tr>\n",
       "      <th>49998</th>\n",
       "      <td>28/01/2024</td>\n",
       "      <td>2025-05-20 14:00:00</td>\n",
       "      <td>CNR3698787</td>\n",
       "      <td>Success</td>\n",
       "      <td>159552</td>\n",
       "      <td>bike</td>\n",
       "      <td>Area-1</td>\n",
       "      <td>Area-37</td>\n",
       "      <td>14.89</td>\n",
       "      <td>28.07</td>\n",
       "      <td>...</td>\n",
       "      <td>0</td>\n",
       "      <td>0</td>\n",
       "      <td>0</td>\n",
       "      <td>0</td>\n",
       "      <td>0</td>\n",
       "      <td>1534.66</td>\n",
       "      <td>Cash</td>\n",
       "      <td>4.60</td>\n",
       "      <td>3.3</td>\n",
       "      <td>4.1</td>\n",
       "    </tr>\n",
       "  </tbody>\n",
       "</table>\n",
       "<p>49999 rows × 21 columns</p>\n",
       "</div>"
      ],
      "text/plain": [
       "             Date                Time  Booking ID       Booking Status  \\\n",
       "0      28/01/2024 2025-05-20 06:00:00  CNR1721175              Success   \n",
       "1      26/01/2024 2025-05-20 03:00:00  CNR2871422  Cancelled by Driver   \n",
       "2      15/01/2024 2025-05-20 16:00:00  CNR6875935  Cancelled by Driver   \n",
       "3      02/01/2024 2025-05-20 22:00:00  CNR6798834  Cancelled by Driver   \n",
       "4      30/01/2024 2025-05-20 22:00:00  CNR9661713           Incomplete   \n",
       "...           ...                 ...         ...                  ...   \n",
       "49994  02/01/2024 2025-05-20 00:00:00  CNR7299340              Success   \n",
       "49995  27/01/2024 2025-05-20 02:00:00  CNR0378586              Success   \n",
       "49996  17/01/2024 2025-05-20 23:00:00  CNR2461856  Cancelled by Driver   \n",
       "49997  18/01/2024 2025-05-20 22:00:00  CNR9524579              Success   \n",
       "49998  28/01/2024 2025-05-20 14:00:00  CNR3698787              Success   \n",
       "\n",
       "       Customer ID vehicle_type Pickup Location Drop Location  Avg VTAT  \\\n",
       "0           329258         auto          Area-3        Area-2      5.42   \n",
       "1           201414         mini          Area-7        Area-6      0.00   \n",
       "2           301629         bike         Area-40       Area-24      0.00   \n",
       "3           319684  prime sedan         Area-11       Area-24      0.00   \n",
       "4           330283         bike         Area-41       Area-45      0.00   \n",
       "...            ...          ...             ...           ...       ...   \n",
       "49994       454202        ebike         Area-39       Area-34     11.53   \n",
       "49995       349873         auto         Area-17       Area-21      5.56   \n",
       "49996       880053         auto         Area-37       Area-43      0.00   \n",
       "49997       752806        ebike         Area-48       Area-29      5.15   \n",
       "49998       159552         bike          Area-1       Area-37     14.89   \n",
       "\n",
       "       Avg CTAT  ...  Reason for Cancelling by Customer  \\\n",
       "0         18.46  ...                                  0   \n",
       "1          0.00  ...                                  0   \n",
       "2          0.00  ...                                  0   \n",
       "3          0.00  ...                                  0   \n",
       "4          0.00  ...                                  0   \n",
       "...         ...  ...                                ...   \n",
       "49994      2.42  ...                                  0   \n",
       "49995      9.05  ...                                  0   \n",
       "49996      0.00  ...                                  0   \n",
       "49997     13.72  ...                                  0   \n",
       "49998     28.07  ...                                  0   \n",
       "\n",
       "      Cancelled Rides by Driver      Reason for Cancelling by Driver  \\\n",
       "0                             0                                    0   \n",
       "1                             1       The customer was coughing/sick   \n",
       "2                             1        Personal & Car related issues   \n",
       "3                             1       The customer was coughing/sick   \n",
       "4                             0                                    0   \n",
       "...                         ...                                  ...   \n",
       "49994                         0                                    0   \n",
       "49995                         0                                    0   \n",
       "49996                         1  More than permitted people in there   \n",
       "49997                         0                                    0   \n",
       "49998                         0                                    0   \n",
       "\n",
       "      Incomplete Rides  Incomplete Rides Reason booking_value  Payment Method  \\\n",
       "0                    0                        0        868.06          Wallet   \n",
       "1                    0                        0          0.00               0   \n",
       "2                    0                        0          0.00               0   \n",
       "3                    0                        0          0.00               0   \n",
       "4                    1              Other Issue          0.00               0   \n",
       "...                ...                      ...           ...             ...   \n",
       "49994                0                        0       1217.43            Card   \n",
       "49995                0                        0       1369.51             Upi   \n",
       "49996                0                        0          0.00               0   \n",
       "49997                0                        0       1930.49             Upi   \n",
       "49998                0                        0       1534.66            Cash   \n",
       "\n",
       "      Ride Distance  Driver Ratings  Customer Rating  \n",
       "0             28.50             4.4              4.4  \n",
       "1              0.00             0.0              0.0  \n",
       "2              0.00             0.0              0.0  \n",
       "3              0.00             0.0              0.0  \n",
       "4              0.00             0.0              0.0  \n",
       "...             ...             ...              ...  \n",
       "49994         10.52             4.1              3.2  \n",
       "49995         11.04             5.0              4.3  \n",
       "49996          0.00             0.0              0.0  \n",
       "49997         14.49             3.1              4.5  \n",
       "49998          4.60             3.3              4.1  \n",
       "\n",
       "[49999 rows x 21 columns]"
      ]
     },
     "execution_count": 93,
     "metadata": {},
     "output_type": "execute_result"
    }
   ],
   "source": [
    "df"
   ]
  },
  {
   "cell_type": "code",
   "execution_count": null,
   "id": "ead6eb44-048e-45bf-bf4c-a84272c6704d",
   "metadata": {},
   "outputs": [],
   "source": []
  },
  {
   "cell_type": "code",
   "execution_count": 98,
   "id": "606e9eb6-f599-423e-b6c0-7551112e56dd",
   "metadata": {},
   "outputs": [
    {
     "data": {
      "text/html": [
       "<div>\n",
       "<style scoped>\n",
       "    .dataframe tbody tr th:only-of-type {\n",
       "        vertical-align: middle;\n",
       "    }\n",
       "\n",
       "    .dataframe tbody tr th {\n",
       "        vertical-align: top;\n",
       "    }\n",
       "\n",
       "    .dataframe thead th {\n",
       "        text-align: right;\n",
       "    }\n",
       "</style>\n",
       "<table border=\"1\" class=\"dataframe\">\n",
       "  <thead>\n",
       "    <tr style=\"text-align: right;\">\n",
       "      <th></th>\n",
       "      <th>Date</th>\n",
       "      <th>Time</th>\n",
       "      <th>Booking ID</th>\n",
       "      <th>Booking Status</th>\n",
       "      <th>Customer ID</th>\n",
       "      <th>vehicle_type</th>\n",
       "      <th>Pickup Location</th>\n",
       "      <th>Drop Location</th>\n",
       "      <th>Avg VTAT</th>\n",
       "      <th>Avg CTAT</th>\n",
       "      <th>...</th>\n",
       "      <th>Reason for Cancelling by Customer</th>\n",
       "      <th>Cancelled Rides by Driver</th>\n",
       "      <th>Reason for Cancelling by Driver</th>\n",
       "      <th>Incomplete Rides</th>\n",
       "      <th>Incomplete Rides Reason</th>\n",
       "      <th>booking_value</th>\n",
       "      <th>Payment Method</th>\n",
       "      <th>Ride Distance</th>\n",
       "      <th>Driver Ratings</th>\n",
       "      <th>Customer Rating</th>\n",
       "    </tr>\n",
       "  </thead>\n",
       "  <tbody>\n",
       "    <tr>\n",
       "      <th>49998</th>\n",
       "      <td>28/01/2024</td>\n",
       "      <td>2025-05-20 14:00:00</td>\n",
       "      <td>CNR3698787</td>\n",
       "      <td>Success</td>\n",
       "      <td>159552</td>\n",
       "      <td>bike</td>\n",
       "      <td>Area-1</td>\n",
       "      <td>Area-37</td>\n",
       "      <td>14.89</td>\n",
       "      <td>28.07</td>\n",
       "      <td>...</td>\n",
       "      <td>0</td>\n",
       "      <td>0</td>\n",
       "      <td>0</td>\n",
       "      <td>0</td>\n",
       "      <td>0</td>\n",
       "      <td>1534.66</td>\n",
       "      <td>Cash</td>\n",
       "      <td>4.6</td>\n",
       "      <td>3.3</td>\n",
       "      <td>4.1</td>\n",
       "    </tr>\n",
       "  </tbody>\n",
       "</table>\n",
       "<p>1 rows × 21 columns</p>\n",
       "</div>"
      ],
      "text/plain": [
       "             Date                Time  Booking ID Booking Status  Customer ID  \\\n",
       "49998  28/01/2024 2025-05-20 14:00:00  CNR3698787        Success       159552   \n",
       "\n",
       "      vehicle_type Pickup Location Drop Location  Avg VTAT  Avg CTAT  ...  \\\n",
       "49998         bike          Area-1       Area-37     14.89     28.07  ...   \n",
       "\n",
       "       Reason for Cancelling by Customer Cancelled Rides by Driver  \\\n",
       "49998                                  0                         0   \n",
       "\n",
       "       Reason for Cancelling by Driver Incomplete Rides  \\\n",
       "49998                                0                0   \n",
       "\n",
       "       Incomplete Rides Reason booking_value  Payment Method Ride Distance  \\\n",
       "49998                        0       1534.66            Cash           4.6   \n",
       "\n",
       "       Driver Ratings  Customer Rating  \n",
       "49998             3.3              4.1  \n",
       "\n",
       "[1 rows x 21 columns]"
      ]
     },
     "execution_count": 98,
     "metadata": {},
     "output_type": "execute_result"
    }
   ],
   "source": [
    "df[df['Booking ID']=='CNR3698787']"
   ]
  },
  {
   "cell_type": "code",
   "execution_count": 100,
   "id": "9d32f427-e757-46e1-9bfb-31050be3d0c5",
   "metadata": {},
   "outputs": [
    {
     "data": {
      "text/html": [
       "<div>\n",
       "<style scoped>\n",
       "    .dataframe tbody tr th:only-of-type {\n",
       "        vertical-align: middle;\n",
       "    }\n",
       "\n",
       "    .dataframe tbody tr th {\n",
       "        vertical-align: top;\n",
       "    }\n",
       "\n",
       "    .dataframe thead th {\n",
       "        text-align: right;\n",
       "    }\n",
       "</style>\n",
       "<table border=\"1\" class=\"dataframe\">\n",
       "  <thead>\n",
       "    <tr style=\"text-align: right;\">\n",
       "      <th></th>\n",
       "      <th>Date</th>\n",
       "      <th>Time</th>\n",
       "      <th>Booking ID</th>\n",
       "      <th>Booking Status</th>\n",
       "      <th>Customer ID</th>\n",
       "      <th>vehicle_type</th>\n",
       "      <th>Pickup Location</th>\n",
       "      <th>Drop Location</th>\n",
       "      <th>Avg VTAT</th>\n",
       "      <th>Avg CTAT</th>\n",
       "      <th>...</th>\n",
       "      <th>Reason for Cancelling by Customer</th>\n",
       "      <th>Cancelled Rides by Driver</th>\n",
       "      <th>Reason for Cancelling by Driver</th>\n",
       "      <th>Incomplete Rides</th>\n",
       "      <th>Incomplete Rides Reason</th>\n",
       "      <th>booking_value</th>\n",
       "      <th>Payment Method</th>\n",
       "      <th>Ride Distance</th>\n",
       "      <th>Driver Ratings</th>\n",
       "      <th>Customer Rating</th>\n",
       "    </tr>\n",
       "  </thead>\n",
       "  <tbody>\n",
       "    <tr>\n",
       "      <th>1</th>\n",
       "      <td>26/01/2024</td>\n",
       "      <td>2025-05-20 03:00:00</td>\n",
       "      <td>CNR2871422</td>\n",
       "      <td>Cancelled by Driver</td>\n",
       "      <td>201414</td>\n",
       "      <td>mini</td>\n",
       "      <td>Area-7</td>\n",
       "      <td>Area-6</td>\n",
       "      <td>0.0</td>\n",
       "      <td>0.0</td>\n",
       "      <td>...</td>\n",
       "      <td>0</td>\n",
       "      <td>1</td>\n",
       "      <td>The customer was coughing/sick</td>\n",
       "      <td>0</td>\n",
       "      <td>0</td>\n",
       "      <td>0.0</td>\n",
       "      <td>0</td>\n",
       "      <td>0.0</td>\n",
       "      <td>0.0</td>\n",
       "      <td>0.0</td>\n",
       "    </tr>\n",
       "  </tbody>\n",
       "</table>\n",
       "<p>1 rows × 21 columns</p>\n",
       "</div>"
      ],
      "text/plain": [
       "         Date                Time  Booking ID       Booking Status  \\\n",
       "1  26/01/2024 2025-05-20 03:00:00  CNR2871422  Cancelled by Driver   \n",
       "\n",
       "   Customer ID vehicle_type Pickup Location Drop Location  Avg VTAT  Avg CTAT  \\\n",
       "1       201414         mini          Area-7        Area-6       0.0       0.0   \n",
       "\n",
       "   ...  Reason for Cancelling by Customer Cancelled Rides by Driver  \\\n",
       "1  ...                                  0                         1   \n",
       "\n",
       "   Reason for Cancelling by Driver Incomplete Rides  Incomplete Rides Reason  \\\n",
       "1   The customer was coughing/sick                0                        0   \n",
       "\n",
       "  booking_value  Payment Method Ride Distance  Driver Ratings  Customer Rating  \n",
       "1           0.0               0           0.0             0.0              0.0  \n",
       "\n",
       "[1 rows x 21 columns]"
      ]
     },
     "execution_count": 100,
     "metadata": {},
     "output_type": "execute_result"
    }
   ],
   "source": [
    "df[df['Customer ID']==201414]"
   ]
  },
  {
   "cell_type": "code",
   "execution_count": 106,
   "id": "3e6d5c22-3b4b-4bfa-9de4-bfcd957a91c3",
   "metadata": {},
   "outputs": [
    {
     "data": {
      "text/plain": [
       "Pickup Location\n",
       "Area-48    1035\n",
       "Name: count, dtype: int64"
      ]
     },
     "execution_count": 106,
     "metadata": {},
     "output_type": "execute_result"
    }
   ],
   "source": [
    "df[df['Pickup Location']=='Area-48']['Pickup Location'].value_counts()"
   ]
  },
  {
   "cell_type": "code",
   "execution_count": 107,
   "id": "94691876-a7d2-4fbb-806f-5b3385ea1221",
   "metadata": {},
   "outputs": [
    {
     "data": {
      "text/plain": [
       "vehicle_type\n",
       "auto    7098\n",
       "Name: count, dtype: int64"
      ]
     },
     "execution_count": 107,
     "metadata": {},
     "output_type": "execute_result"
    }
   ],
   "source": [
    "df[df['vehicle_type']=='auto']['vehicle_type'].value_counts()"
   ]
  },
  {
   "cell_type": "code",
   "execution_count": 109,
   "id": "d2b2b403-024d-4cfa-8ca6-791cba395edb",
   "metadata": {},
   "outputs": [
    {
     "data": {
      "text/plain": [
       "<Axes: >"
      ]
     },
     "execution_count": 109,
     "metadata": {},
     "output_type": "execute_result"
    },
    {
     "data": {
      "image/png": "[encoded data removed]",
      "text/plain": [
       "<Figure size 1000x400 with 1 Axes>"
      ]
     },
     "metadata": {},
     "output_type": "display_data"
    }
   ],
   "source": [
    "plt.figure(figsize=(10,4))\n",
    "df['vehicle_type'].hist(bins=10)"
   ]
  },
  {
   "cell_type": "code",
   "execution_count": 110,
   "id": "091c1cb7-f285-42fa-973b-202616080cd1",
   "metadata": {},
   "outputs": [
    {
     "data": {
      "image/png": "[encoded data removed]",
      "text/plain": [
       "<Figure size 640x480 with 1 Axes>"
      ]
     },
     "metadata": {},
     "output_type": "display_data"
    }
   ],
   "source": [
    "df['vehicle_type'].value_counts().plot(kind='pie',autopct='%1.1f%%')\n",
    "plt.title('Vehicle Type Distribution')\n",
    "plt.ylabel(' ')\n",
    "plt.tight_layout()\n",
    "plt.show()"
   ]
  },
  {
   "cell_type": "code",
   "execution_count": 131,
   "id": "b2f1fbd8-5212-4149-b725-005ef31582d5",
   "metadata": {},
   "outputs": [
    {
     "data": {
      "image/png": "[encoded data removed]",
      "text/plain": [
       "<Figure size 2000x400 with 1 Axes>"
      ]
     },
     "metadata": {},
     "output_type": "display_data"
    }
   ],
   "source": [
    "plt.figure(figsize=(20,4))\n",
    "top_10=df.groupby('Pickup Location')['Customer ID'].sum().nlargest(15)\n",
    "top_10.plot(kind='bar',stacked=True,color='skyblue')\n",
    "plt.title('Total Amount per Vehicle Type')\n",
    "plt.ylabel('values')\n",
    "plt.xlabel('Pickup_Location')\n",
    "plt.xticks(rotation=60)\n",
    "plt.tight_layout()\n",
    "plt.show()"
   ]
  },
  {
   "cell_type": "code",
   "execution_count": 134,
   "id": "dfb27e2f-ffcc-4edc-bb42-c2a8adda6f58",
   "metadata": {},
   "outputs": [
    {
     "data": {
      "image/png": "[encoded data removed]",
      "text/plain": [
       "<Figure size 2000x500 with 1 Axes>"
      ]
     },
     "metadata": {},
     "output_type": "display_data"
    }
   ],
   "source": [
    "plt.figure(figsize=(20,5))\n",
    "top_10=df['Date'].value_counts().nlargest(10).sort_index()\n",
    "top_10.plot(kind=\"line\",color=\"Blue\",marker='o')\n",
    "plt.title('Top 10 Dates by Number of Bookings')\n",
    "plt.ylabel('Number of Bookings')\n",
    "plt.xlabel('Date')\n",
    "plt.xticks(rotation=45)\n",
    "plt.grid(True)\n",
    "plt.tight_layout()\n",
    "plt.show()\n"
   ]
  },
  {
   "cell_type": "code",
   "execution_count": 20,
   "id": "48a0a9b2-aaa8-45f6-822e-69b5dcb73fbc",
   "metadata": {},
   "outputs": [
    {
     "data": {
      "image/png": "[encoded data removed]",
      "text/plain": [
       "<Figure size 2000x400 with 1 Axes>"
      ]
     },
     "metadata": {},
     "output_type": "display_data"
    }
   ],
   "source": [
    "plt.figure(figsize=(20,4))\n",
    "top_5=df.groupby('vehicle_type')['Customer ID'].sum().nlargest(5).sort_index()\n",
    "top_5.plot(kind=\"line\",color='blue',marker='D')\n",
    "plt.grid()\n",
    "plt.show()"
   ]
  },
  {
   "cell_type": "code",
   "execution_count": 30,
   "id": "3b1ec6b4-2238-4e82-a330-efb0497adf8e",
   "metadata": {},
   "outputs": [
    {
     "data": {
      "image/png": "[encoded data removed]",
      "text/plain": [
       "<Figure size 640x480 with 1 Axes>"
      ]
     },
     "metadata": {},
     "output_type": "display_data"
    }
   ],
   "source": [
    "explodes=[0.2,0.1,0.0,0.1,0.2]\n",
    "df['booking_value'].value_counts().nlargest(5).plot(kind=\"pie\",autopct=\"%1.2f%%\",legend=False,startangle=90,explode=explodes,shadow=True)\n",
    "plt.grid()\n",
    "plt.ylabel(\"\")\n",
    "plt.title(\"Top 5 Booking Vlaue\")\n",
    "plt.show()"
   ]
  },
  {
   "cell_type": "code",
   "execution_count": 32,
   "id": "f2e658fd-1f2b-4335-96fd-020dedc8afab",
   "metadata": {},
   "outputs": [
    {
     "data": {
      "image/png": "[encoded data removed]",
      "text/plain": [
       "<Figure size 600x600 with 1 Axes>"
      ]
     },
     "metadata": {},
     "output_type": "display_data"
    }
   ],
   "source": [
    "df['booking_value'].value_counts().nlargest(5).plot(\n",
    "    kind=\"pie\",\n",
    "    autopct=\"%1.2f%%\",   # Show percentages with 2 decimals\n",
    "    startangle=90,       # Optional: rotate start for better layout\n",
    "    figsize=(6, 6),      # Optional: size of pie chart\n",
    "    legend=False,\n",
    "    shadow=True\n",
    ")\n",
    "\n",
    "plt.title(\"Top 5 Booking Values\")\n",
    "plt.ylabel(\"\")  # Hides y-label (default shows column name)\n",
    "plt.grid()      # Adds a grid (optional, not always helpful in pie charts)\n",
    "plt.show()"
   ]
  },
  {
   "cell_type": "code",
   "execution_count": 33,
   "id": "b3a6b132-c58d-44b3-99c5-14e03c272e72",
   "metadata": {},
   "outputs": [
    {
     "name": "stdout",
     "output_type": "stream",
     "text": [
      "<class 'pandas.core.frame.DataFrame'>\n",
      "RangeIndex: 49999 entries, 0 to 49998\n",
      "Data columns (total 21 columns):\n",
      " #   Column                             Non-Null Count  Dtype  \n",
      "---  ------                             --------------  -----  \n",
      " 0   Date                               49999 non-null  object \n",
      " 1   Time                               49999 non-null  object \n",
      " 2   Booking ID                         49999 non-null  object \n",
      " 3   Booking Status                     49999 non-null  object \n",
      " 4   Customer ID                        49999 non-null  int64  \n",
      " 5   vehicle_type                       49999 non-null  object \n",
      " 6   Pickup Location                    49999 non-null  object \n",
      " 7   Drop Location                      49999 non-null  object \n",
      " 8   Avg VTAT                           33484 non-null  float64\n",
      " 9   Avg CTAT                           33484 non-null  float64\n",
      " 10  Cancelled  by Customer             49999 non-null  int64  \n",
      " 11  Reason for Cancelling by Customer  3799 non-null   object \n",
      " 12  Cancelled Rides by Driver          49999 non-null  int64  \n",
      " 13  Reason for Cancelling by Driver    9610 non-null   object \n",
      " 14  Incomplete Rides                   49999 non-null  int64  \n",
      " 15  Incomplete Rides Reason            3106 non-null   object \n",
      " 16  booking_value                      33484 non-null  float64\n",
      " 17  Payment Method                     33484 non-null  object \n",
      " 18  Ride Distance                      33484 non-null  float64\n",
      " 19  Driver Ratings                     33484 non-null  float64\n",
      " 20  Customer Rating                    33484 non-null  float64\n",
      "dtypes: float64(6), int64(4), object(11)\n",
      "memory usage: 8.0+ MB\n"
     ]
    }
   ],
   "source": [
    "df.info()"
   ]
  },
  {
   "cell_type": "code",
   "execution_count": 67,
   "id": "0557843e-103c-49d7-a7fc-e66e80f84392",
   "metadata": {},
   "outputs": [
    {
     "data": {
      "text/plain": [
       "<Axes: xlabel='Driver Ratings'>"
      ]
     },
     "execution_count": 67,
     "metadata": {},
     "output_type": "execute_result"
    },
    {
     "data": {
      "image/png": "[encoded data removed]",
      "text/plain": [
       "<Figure size 640x480 with 1 Axes>"
      ]
     },
     "metadata": {},
     "output_type": "display_data"
    }
   ],
   "source": [
    "colors=('yellow','green','pink','black','cyan','red','darkred','blue','brown','black')\n",
    "df['Driver Ratings'].value_counts().nlargest(10).plot(kind=\"bar\",color=colors,legend=True)"
   ]
  },
  {
   "cell_type": "code",
   "execution_count": 82,
   "id": "cae329d0-162a-43a0-a378-600b3e87e31f",
   "metadata": {},
   "outputs": [
    {
     "data": {
      "image/png": "[encoded data removed]",
      "text/plain": [
       "<Figure size 640x480 with 1 Axes>"
      ]
     },
     "metadata": {},
     "output_type": "display_data"
    }
   ],
   "source": [
    "colors=('pink','yellow','red','black','darkred','green','black','blue','skyblue','grey')\n",
    "df['Customer Rating'].value_counts().nlargest(15).plot(kind='bar',color=colors)\n",
    "plt.legend()\n",
    "plt.show()"
   ]
  },
  {
   "cell_type": "code",
   "execution_count": 72,
   "id": "7e0a5cf9-6bd5-48cb-9204-9621516d4b2a",
   "metadata": {},
   "outputs": [
    {
     "data": {
      "text/plain": [
       "Cancelled Rides by Driver\n",
       "0    40389\n",
       "1     9610\n",
       "Name: count, dtype: int64"
      ]
     },
     "execution_count": 72,
     "metadata": {},
     "output_type": "execute_result"
    }
   ],
   "source": [
    "df['Cancelled Rides by Driver'].value_counts()"
   ]
  },
  {
   "cell_type": "code",
   "execution_count": 77,
   "id": "d754102e-00e2-4de0-a97f-2793b7471ad6",
   "metadata": {},
   "outputs": [
    {
     "data": {
      "text/plain": [
       "<Axes: xlabel='Cancelled Rides by Driver'>"
      ]
     },
     "execution_count": 77,
     "metadata": {},
     "output_type": "execute_result"
    },
    {
     "data": {
      "image/png": "[encoded data removed]",
      "text/plain": [
       "<Figure size 640x480 with 1 Axes>"
      ]
     },
     "metadata": {},
     "output_type": "display_data"
    }
   ],
   "source": [
    "df['Cancelled Rides by Driver'].value_counts().nlargest(10).plot(kind='bar',color='blue',legend=True)"
   ]
  },
  {
   "cell_type": "code",
   "execution_count": 88,
   "id": "c2b5c6cb-e0ab-4d72-9ee8-0589ddca918f",
   "metadata": {},
   "outputs": [
    {
     "data": {
      "image/png": "[encoded data removed]",
      "text/plain": [
       "<Figure size 640x480 with 1 Axes>"
      ]
     },
     "metadata": {},
     "output_type": "display_data"
    }
   ],
   "source": [
    "df['Ride Distance'].value_counts().nlargest(10).plot(kind='line',color='green',legend=True,marker='o')\n",
    "plt.grid(axis='x')"
   ]
  },
  {
   "cell_type": "code",
   "execution_count": 90,
   "id": "67dfdc0f-1d3f-436b-9f32-5f6425b6ea5b",
   "metadata": {},
   "outputs": [
    {
     "data": {
      "text/plain": [
       "Index(['Date', 'Time', 'Booking ID', 'Booking Status', 'Customer ID',\n",
       "       'vehicle_type', 'Pickup Location', 'Drop Location', 'Avg VTAT',\n",
       "       'Avg CTAT', 'Cancelled  by Customer',\n",
       "       'Reason for Cancelling by Customer', 'Cancelled Rides by Driver',\n",
       "       'Reason for Cancelling by Driver', 'Incomplete Rides',\n",
       "       'Incomplete Rides Reason', 'booking_value', 'Payment Method',\n",
       "       'Ride Distance', 'Driver Ratings', 'Customer Rating'],\n",
       "      dtype='object')"
      ]
     },
     "execution_count": 90,
     "metadata": {},
     "output_type": "execute_result"
    }
   ],
   "source": [
    "df.columns"
   ]
  },
  {
   "cell_type": "code",
   "execution_count": 95,
   "id": "dda715a4-5c96-4d63-8877-90c9456766a4",
   "metadata": {},
   "outputs": [
    {
     "data": {
      "text/plain": [
       "(array([0, 1, 2, 3]),\n",
       " [Text(0, 0, 'More than permitted people in there'),\n",
       "  Text(1, 0, 'Personal & Car related issues'),\n",
       "  Text(2, 0, 'Customer related issue'),\n",
       "  Text(3, 0, 'The customer was coughing/sick')])"
      ]
     },
     "execution_count": 95,
     "metadata": {},
     "output_type": "execute_result"
    },
    {
     "data": {
      "image/png": "[encoded data removed]",
      "text/plain": [
       "<Figure size 640x480 with 1 Axes>"
      ]
     },
     "metadata": {},
     "output_type": "display_data"
    }
   ],
   "source": [
    "colors=['yellow','pink','blue','green']\n",
    "df['Reason for Cancelling by Driver'].value_counts().plot(kind='bar',color=colors,legend=True)\n",
    "plt.xticks(rotation=45)"
   ]
  },
  {
   "cell_type": "code",
   "execution_count": 97,
   "id": "1ff4a9e0-0072-49e0-99e4-9ebe5bc0da30",
   "metadata": {},
   "outputs": [
    {
     "data": {
      "text/plain": [
       "<Axes: ylabel='count'>"
      ]
     },
     "execution_count": 97,
     "metadata": {},
     "output_type": "execute_result"
    },
    {
     "data": {
      "image/png": "[encoded data removed]",
      "text/plain": [
       "<Figure size 640x480 with 1 Axes>"
      ]
     },
     "metadata": {},
     "output_type": "display_data"
    }
   ],
   "source": [
    "df['Reason for Cancelling by Customer'].value_counts().plot(kind='pie',legend=True)"
   ]
  },
  {
   "cell_type": "code",
   "execution_count": null,
   "id": "4ac1c383-a469-4e5c-81b5-08f3721212d5",
   "metadata": {},
   "outputs": [],
   "source": []
  }
 ],
 "metadata": {
  "kernelspec": {
   "display_name": "Python 3 (ipykernel)",
   "language": "python",
   "name": "python3"
  },
  "language_info": {
   "codemirror_mode": {
    "name": "ipython",
    "version": 3
   },
   "file_extension": ".py",
   "mimetype": "text/x-python",
   "name": "python",
   "nbconvert_exporter": "python",
   "pygments_lexer": "ipython3",
   "version": "3.13.1"
  }
 },
 "nbformat": 4,
 "nbformat_minor": 5
}
